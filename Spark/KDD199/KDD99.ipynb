{
 "cells": [
  {
   "cell_type": "markdown",
   "metadata": {},
   "source": [
    "# Spark on the KDD99 dataset #\n",
    "\n",
    "Our objective in this project is to create a network intrusion detection system  that can identify which network flow is malicious  and which is not. We will use the dataset from here - http://kdd.ics.uci.edu/databases/kddcup99/kddcup99.html\n",
    "\n",
    "This is a multiclass classification problem.\n",
    "\n",
    "The features are as follows:\n",
    "\n",
    "* duration: continuous.\n",
    "* protocol_type: symbolic.\n",
    "* service: symbolic.\n",
    "* flag: symbolic.\n",
    "* src_bytes: continuous.\n",
    "* dst_bytes: continuous.\n",
    "* land: symbolic.\n",
    "* wrong_fragment: continuous.\n",
    "* urgent: continuous.\n",
    "* hot: continuous.\n",
    "* num_failed_logins: continuous.\n",
    "* logged_in: symbolic.\n",
    "* num_compromised: continuous.\n",
    "* root_shell: continuous.\n",
    "* su_attempted: continuous.\n",
    "* num_root: continuous.\n",
    "* num_file_creations: continuous.\n",
    "* num_shells: continuous.\n",
    "* num_access_files: continuous.\n",
    "* num_outbound_cmds: continuous.\n",
    "* is_host_login: symbolic.\n",
    "* is_guest_login: symbolic.\n",
    "* count: continuous.\n",
    "* srv_count: continuous.\n",
    "* serror_rate: continuous.\n",
    "* srv_serror_rate: continuous.\n",
    "* rerror_rate: continuous.\n",
    "* srv_rerror_rate: continuous.\n",
    "* same_srv_rate: continuous.\n",
    "* diff_srv_rate: continuous.\n",
    "* srv_diff_host_rate: continuous.\n",
    "* dst_host_count: continuous.\n",
    "* dst_host_srv_count: continuous.\n",
    "* dst_host_same_srv_rate: continuous.\n",
    "* dst_host_diff_srv_rate: continuous.\n",
    "* dst_host_same_src_port_rate: continuous.\n",
    "* dst_host_srv_diff_host_rate: continuous.\n",
    "* dst_host_serror_rate: continuous.\n",
    "* dst_host_srv_serror_rate: continuous.\n",
    "* dst_host_rerror_rate: continuous.\n",
    "* dst_host_srv_rerror_rate: continuous.\n",
    "\n",
    "All possible target classifications are as follows:\n",
    "\n",
    "* back,\n",
    "* buffer_overflow,\n",
    "* ftp_write,\n",
    "* guess_passwd,\n",
    "* imap,\n",
    "* ipsweep,\n",
    "* land,\n",
    "* loadmodule,\n",
    "* multihop,\n",
    "* neptune,\n",
    "* nmap,\n",
    "* normal,\n",
    "* perl,\n",
    "* phf,\n",
    "* pod,\n",
    "* portsweep,\n",
    "* rootkit,\n",
    "* satan,\n",
    "* smurf,\n",
    "* spy,\n",
    "* teardrop,\n",
    "* warezclient,\n",
    "* warezmaster."
   ]
  },
  {
   "cell_type": "markdown",
   "metadata": {},
   "source": [
    "## Step 1.1: Download the dataset "
   ]
  },
  {
   "cell_type": "code",
   "execution_count": 1,
   "metadata": {
    "collapsed": true
   },
   "outputs": [],
   "source": [
    "# Precautionary step: remove all pre existing kdd files\n",
    "# !rm -rf kdd*\n",
    "\n",
    "!wget -q -O ../datasets/kddtrain.gz \\\n",
    "http://kdd.ics.uci.edu/databases/kddcup99/kddcup.data_10_percent.gz\n",
    "\n",
    "!wget -q -O ../datasets/kddtest.gz \\\n",
    "http://kdd.ics.uci.edu/databases/kddcup99/corrected.gz\n",
    "    \n",
    "# A list of features\n",
    "!wget -q -O ../datasets/kddnames \\\n",
    "http://kdd.ics.uci.edu/databases/kddcup99/kddcup.names\n",
    "    \n",
    "!gunzip ../datasets/kdd*gz"
   ]
  },
  {
   "cell_type": "code",
   "execution_count": 2,
   "metadata": {
    "collapsed": false
   },
   "outputs": [
    {
     "name": "stdout",
     "output_type": "stream",
     "text": [
      "0,tcp,http,SF,181,5450,0,0,0,0,0,1,0,0,0,0,0,0,0,0,0,0,8,8,0.00,0.00,0.00,0.00,1.00,0.00,0.00,9,9,1.00,0.00,0.11,0.00,0.00,0.00,0.00,0.00,normal.\r\n",
      "0,tcp,http,SF,239,486,0,0,0,0,0,1,0,0,0,0,0,0,0,0,0,0,8,8,0.00,0.00,0.00,0.00,1.00,0.00,0.00,19,19,1.00,0.00,0.05,0.00,0.00,0.00,0.00,0.00,normal.\r\n",
      "0,tcp,http,SF,235,1337,0,0,0,0,0,1,0,0,0,0,0,0,0,0,0,0,8,8,0.00,0.00,0.00,0.00,1.00,0.00,0.00,29,29,1.00,0.00,0.03,0.00,0.00,0.00,0.00,0.00,normal.\r\n"
     ]
    }
   ],
   "source": [
    "# Preview the data\n",
    "# Our target is the last variable\n",
    "!head -3 ../datasets/kddtrain"
   ]
  },
  {
   "cell_type": "markdown",
   "metadata": {},
   "source": [
    "## Step 1.2: Get the feature variables and target variable "
   ]
  },
  {
   "cell_type": "code",
   "execution_count": 7,
   "metadata": {
    "collapsed": false
   },
   "outputs": [
    {
     "name": "stdout",
     "output_type": "stream",
     "text": [
      "Num features: 41\n",
      "\n",
      "The feature set with the target in the last spot are as follows:\n",
      "\n",
      "['duration',\n",
      " 'protocol_type',\n",
      " 'service',\n",
      " 'flag',\n",
      " 'src_bytes',\n",
      " 'dst_bytes',\n",
      " 'land',\n",
      " 'wrong_fragment',\n",
      " 'urgent',\n",
      " 'hot',\n",
      " 'num_failed_logins',\n",
      " 'logged_in',\n",
      " 'num_compromised',\n",
      " 'root_shell',\n",
      " 'su_attempted',\n",
      " 'num_root',\n",
      " 'num_file_creations',\n",
      " 'num_shells',\n",
      " 'num_access_files',\n",
      " 'num_outbound_cmds',\n",
      " 'is_host_login',\n",
      " 'is_guest_login',\n",
      " 'count',\n",
      " 'srv_count',\n",
      " 'serror_rate',\n",
      " 'srv_serror_rate',\n",
      " 'rerror_rate',\n",
      " 'srv_rerror_rate',\n",
      " 'same_srv_rate',\n",
      " 'diff_srv_rate',\n",
      " 'srv_diff_host_rate',\n",
      " 'dst_host_count',\n",
      " 'dst_host_srv_count',\n",
      " 'dst_host_same_srv_rate',\n",
      " 'dst_host_diff_srv_rate',\n",
      " 'dst_host_same_src_port_rate',\n",
      " 'dst_host_srv_diff_host_rate',\n",
      " 'dst_host_serror_rate',\n",
      " 'dst_host_srv_serror_rate',\n",
      " 'dst_host_rerror_rate',\n",
      " 'dst_host_srv_rerror_rate',\n",
      " 'target']\n"
     ]
    }
   ],
   "source": [
    "# The features are in the kddnames file \n",
    "# http://kdd.ics.uci.edu/databases/kddcup99/kddcup.names\n",
    "import pprint\n",
    "with open('../datasets/kddnames', 'r') as fh:\n",
    "    header = [line.split(':')[0] \n",
    "              for line in fh.read().splitlines()][1:]\n",
    "\n",
    "header.append('target')\n",
    "\n",
    "print \"Num features:\", len(header)-1\n",
    "print '\\nThe feature set with the target in the last spot are as follows:\\n'\n",
    "pprint.pprint(header)"
   ]
  },
  {
   "cell_type": "markdown",
   "metadata": {},
   "source": [
    "## Step 1.3 Create 2 RDDs for training and testing data"
   ]
  },
  {
   "cell_type": "code",
   "execution_count": 8,
   "metadata": {
    "collapsed": true
   },
   "outputs": [],
   "source": [
    "# Training data\n",
    "train_rdd = sc.textFile('file:///home/vagrant/datasets/kddtrain')\n",
    "\n",
    "# Testing data\n",
    "test_rdd = sc.textFile('file:///home/vagrant/datasets/kddtest')"
   ]
  },
  {
   "cell_type": "markdown",
   "metadata": {},
   "source": [
    "## Step 2: Data preprocessing ##\n",
    "\n",
    "In this step we will parse each line of each file to create a Dataframe. The steps followed are as follows:\n",
    "\n",
    "* Split each line of the CSV into separate fields\n",
    "* Cast each numerical value to float, and each text value to string.\n",
    "* Remove the dot at the end of each line."
   ]
  },
  {
   "cell_type": "code",
   "execution_count": 9,
   "metadata": {
    "collapsed": true
   },
   "outputs": [],
   "source": [
    "# Preprocessing function\n",
    "# Example:\n",
    "# 0,tcp,http,SF,181,5450,0,0,0,0,0,1,0,0,0,0,0,0,0,0,0,0,8,8,0.00,0.00,0.00,0.00,1.00,0.00,0.00,9,9,1.00,0.00,\n",
    "# 0.11,0.00,0.00,0.00,0.00,0.00,normal.\n",
    "def line_parser(line):   \n",
    "    def piece_parser(piece):\n",
    "            # Cast int to float\n",
    "            if \".\" in piece or piece.isdigit():\n",
    "                return float(piece)\n",
    "            else:\n",
    "                return piece\n",
    "    # Split each line into separate fields\n",
    "    return [piece_parser(piece) for piece in line[:-1].split(',')]\n",
    "\n",
    "# Training dataframe\n",
    "train_df = sqlContext.createDataFrame(train_rdd.map(line_parser), header)\n",
    "\n",
    "# Testing dataframe\n",
    "test_df = sqlContext.createDataFrame(test_rdd.map(line_parser), header)"
   ]
  },
  {
   "cell_type": "code",
   "execution_count": 10,
   "metadata": {
    "collapsed": false
   },
   "outputs": [
    {
     "name": "stdout",
     "output_type": "stream",
     "text": [
      "Train observations: 494021\n",
      "Test observations: 311029\n"
     ]
    }
   ],
   "source": [
    "# Spark actions\n",
    "# Total number of rows in training and testing sets\n",
    "print \"Train observations:\", train_df.count()\n",
    "print \"Test observations:\", test_df.count()\n",
    "'''\n",
    "Our test set has close to 500,000 rows, along with 41 features. That is 20 million values.\n",
    "'''"
   ]
  },
  {
   "cell_type": "code",
   "execution_count": 12,
   "metadata": {
    "collapsed": false
   },
   "outputs": [
    {
     "name": "stdout",
     "output_type": "stream",
     "text": [
      "root\n",
      " |-- duration: double (nullable = true)\n",
      " |-- protocol_type: string (nullable = true)\n",
      " |-- service: string (nullable = true)\n",
      " |-- flag: string (nullable = true)\n",
      " |-- src_bytes: double (nullable = true)\n",
      " |-- dst_bytes: double (nullable = true)\n",
      " |-- land: double (nullable = true)\n",
      " |-- wrong_fragment: double (nullable = true)\n",
      " |-- urgent: double (nullable = true)\n",
      " |-- hot: double (nullable = true)\n",
      " |-- num_failed_logins: double (nullable = true)\n",
      " |-- logged_in: double (nullable = true)\n",
      " |-- num_compromised: double (nullable = true)\n",
      " |-- root_shell: double (nullable = true)\n",
      " |-- su_attempted: double (nullable = true)\n",
      " |-- num_root: double (nullable = true)\n",
      " |-- num_file_creations: double (nullable = true)\n",
      " |-- num_shells: double (nullable = true)\n",
      " |-- num_access_files: double (nullable = true)\n",
      " |-- num_outbound_cmds: double (nullable = true)\n",
      " |-- is_host_login: double (nullable = true)\n",
      " |-- is_guest_login: double (nullable = true)\n",
      " |-- count: double (nullable = true)\n",
      " |-- srv_count: double (nullable = true)\n",
      " |-- serror_rate: double (nullable = true)\n",
      " |-- srv_serror_rate: double (nullable = true)\n",
      " |-- rerror_rate: double (nullable = true)\n",
      " |-- srv_rerror_rate: double (nullable = true)\n",
      " |-- same_srv_rate: double (nullable = true)\n",
      " |-- diff_srv_rate: double (nullable = true)\n",
      " |-- srv_diff_host_rate: double (nullable = true)\n",
      " |-- dst_host_count: double (nullable = true)\n",
      " |-- dst_host_srv_count: double (nullable = true)\n",
      " |-- dst_host_same_srv_rate: double (nullable = true)\n",
      " |-- dst_host_diff_srv_rate: double (nullable = true)\n",
      " |-- dst_host_same_src_port_rate: double (nullable = true)\n",
      " |-- dst_host_srv_diff_host_rate: double (nullable = true)\n",
      " |-- dst_host_serror_rate: double (nullable = true)\n",
      " |-- dst_host_srv_serror_rate: double (nullable = true)\n",
      " |-- dst_host_rerror_rate: double (nullable = true)\n",
      " |-- dst_host_srv_rerror_rate: double (nullable = true)\n",
      " |-- target: string (nullable = true)\n",
      "\n"
     ]
    }
   ],
   "source": [
    "# Study schema of the dataframe\n",
    "train_df.printSchema()"
   ]
  },
  {
   "cell_type": "markdown",
   "metadata": {},
   "source": [
    "## Step 3: Feature engineering"
   ]
  },
  {
   "cell_type": "code",
   "execution_count": 13,
   "metadata": {
    "collapsed": true
   },
   "outputs": [],
   "source": [
    "'''\n",
    "There are 4 categorical features: protocol_type, service, flag, target.\n",
    "\n",
    "As we are using a tree based classifier we will encode the text at each level to a number for each variable.\n",
    "\n",
    "We will use StringIndexer for this purpose. \n",
    "'''\n",
    "from pyspark.ml import Pipeline\n",
    "from pyspark.ml.feature import StringIndexer\n",
    "\n",
    "# Define categorical variables\n",
    "cols_categorical = [\"protocol_type\", \"service\", \"flag\",\"target\"]\n",
    "preproc_stages = []\n",
    "\n",
    "# Chain four StringIndexer objects together in a cascade, each operating on a specific column of the dataframe\n",
    "# outputting a datframe with an additional column with the _cat suffix\n",
    "for col in cols_categorical:\n",
    "    out_col = col + \"_cat\"\n",
    "    preproc_stages.append(\n",
    "        StringIndexer(inputCol = col, \n",
    "                      outputCol = out_col, \n",
    "                      handleInvalid = \"skip\"))\n",
    "\n",
    "# Feed the preproc_stages list into the pipeline.\n",
    "pipeline = Pipeline(stages = preproc_stages)\n",
    "# Fit all the indexers\n",
    "indexer = pipeline.fit(train_df)\n",
    "\n",
    "# Call transform on the new fitted object\n",
    "train_num_df = indexer.transform(train_df)\n",
    "test_num_df = indexer.transform(test_df)"
   ]
  },
  {
   "cell_type": "code",
   "execution_count": 17,
   "metadata": {
    "collapsed": false
   },
   "outputs": [
    {
     "name": "stdout",
     "output_type": "stream",
     "text": [
      "The pipeline stages are: \n",
      "\n",
      "[StringIndexer_4addb847a07a0d501912,\n",
      " StringIndexer_4bf0bc7e3dd167b37e67,\n",
      " StringIndexer_4062bda3fe2b5a161625,\n",
      " StringIndexer_40c6abbe0492f347fa42]\n",
      "\n",
      "\n",
      "Pipeline_4ab99e967d2e9ac010f7\n",
      "The fitted object that we get from the fit function that we feed into the transform method is :  PipelineModel_4b39b7043f58418535b5\n"
     ]
    }
   ],
   "source": [
    "# Pipeline stages\n",
    "print 'The pipeline stages are: \\n'\n",
    "pprint.pprint(pipeline.getStages())\n",
    "print \"\\n\"\n",
    "print pipeline\n",
    "# The indexer is object has the 'Model' suffix\n",
    "'''\n",
    "In scikit-learn, fit and transform are called on the same object. In spark, the fit method creates a new object which\n",
    "has the Model suffix. This object is then fed into the transform method.\n",
    "'''\n",
    "print 'The fitted object that we get from the fit function that we feed into the transform method is : ', indexer"
   ]
  },
  {
   "cell_type": "code",
   "execution_count": 18,
   "metadata": {
    "collapsed": false
   },
   "outputs": [
    {
     "name": "stdout",
     "output_type": "stream",
     "text": [
      "First observation, after the 4 StringIndexers:\n",
      "\n",
      "Row(duration=0.0, protocol_type=u'tcp', service=u'http', flag=u'SF', src_bytes=181.0, dst_bytes=5450.0, land=0.0, wrong_fragment=0.0, urgent=0.0, hot=0.0, num_failed_logins=0.0, logged_in=1.0, num_compromised=0.0, root_shell=0.0, su_attempted=0.0, num_root=0.0, num_file_creations=0.0, num_shells=0.0, num_access_files=0.0, num_outbound_cmds=0.0, is_host_login=0.0, is_guest_login=0.0, count=8.0, srv_count=8.0, serror_rate=0.0, srv_serror_rate=0.0, rerror_rate=0.0, srv_rerror_rate=0.0, same_srv_rate=1.0, diff_srv_rate=0.0, srv_diff_host_rate=0.0, dst_host_count=9.0, dst_host_srv_count=9.0, dst_host_same_srv_rate=1.0, dst_host_diff_srv_rate=0.0, dst_host_same_src_port_rate=0.11, dst_host_srv_diff_host_rate=0.0, dst_host_serror_rate=0.0, dst_host_srv_serror_rate=0.0, dst_host_rerror_rate=0.0, dst_host_srv_rerror_rate=0.0, target=u'normal', protocol_type_cat=1.0, service_cat=2.0, flag_cat=0.0, target_cat=2.0)\n"
     ]
    }
   ],
   "source": [
    "'''\n",
    "Checking the first object(first line in the CSV file) after passing through the pipeline.\n",
    "\n",
    "There are 4 extra columns with values: protocol_type_cat=1.0, service_cat=2.0, flag_cat=0.0, target_cat=2.0\n",
    "'''\n",
    "print \"First observation, after the 4 StringIndexers:\\n\"\n",
    "pprint.pprint(train_num_df.first())"
   ]
  },
  {
   "cell_type": "code",
   "execution_count": 20,
   "metadata": {
    "collapsed": false
   },
   "outputs": [
    {
     "name": "stdout",
     "output_type": "stream",
     "text": [
      "The feature list with all numerical values is as follows: \n",
      "\n",
      "['num_access_files',\n",
      " 'src_bytes',\n",
      " 'srv_count',\n",
      " 'num_outbound_cmds',\n",
      " 'rerror_rate',\n",
      " 'urgent',\n",
      " 'protocol_type_cat',\n",
      " 'dst_host_same_srv_rate',\n",
      " 'duration',\n",
      " 'dst_host_diff_srv_rate',\n",
      " 'srv_serror_rate',\n",
      " 'is_host_login',\n",
      " 'wrong_fragment',\n",
      " 'serror_rate',\n",
      " 'num_compromised',\n",
      " 'is_guest_login',\n",
      " 'dst_host_rerror_rate',\n",
      " 'dst_host_srv_serror_rate',\n",
      " 'hot',\n",
      " 'dst_host_srv_count',\n",
      " 'logged_in',\n",
      " 'srv_rerror_rate',\n",
      " 'dst_host_srv_diff_host_rate',\n",
      " 'srv_diff_host_rate',\n",
      " 'dst_host_same_src_port_rate',\n",
      " 'root_shell',\n",
      " 'service_cat',\n",
      " 'su_attempted',\n",
      " 'dst_host_count',\n",
      " 'num_file_creations',\n",
      " 'flag_cat',\n",
      " 'count',\n",
      " 'land',\n",
      " 'same_srv_rate',\n",
      " 'dst_bytes',\n",
      " 'num_shells',\n",
      " 'dst_host_srv_rerror_rate',\n",
      " 'num_root',\n",
      " 'diff_srv_rate',\n",
      " 'num_failed_logins',\n",
      " 'dst_host_serror_rate']\n",
      "Total numerical features: 41\n"
     ]
    }
   ],
   "source": [
    "# Extract the numerical columns\n",
    "# Replace categorical text columns with their numerical counterparts\n",
    "# Remove the target variable and its numerical counterpart as we want just the features\n",
    "features_header = set(header) \\\n",
    "                - set(cols_categorical) \\\n",
    "                | set([c + \"_cat\" for c in cols_categorical]) \\\n",
    "                - set([\"target\", \"target_cat\"])\n",
    "\n",
    "features_header = list(features_header)\n",
    "\n",
    "print 'The feature list with all numerical values is as follows: \\n'\n",
    "pprint.pprint(features_header)\n",
    "print \"Total numerical features:\", len(features_header)"
   ]
  },
  {
   "cell_type": "markdown",
   "metadata": {},
   "source": [
    "### Build the feature matrix ##"
   ]
  },
  {
   "cell_type": "code",
   "execution_count": 21,
   "metadata": {
    "collapsed": true
   },
   "outputs": [],
   "source": [
    "# Create feature vectors for feeding into the ML algorithm\n",
    "\n",
    "from pyspark.mllib.linalg import Vectors\n",
    "from pyspark.ml.feature import VectorAssembler\n",
    "\n",
    "# We store the features in 'features'\n",
    "assembler = VectorAssembler(inputCols = features_header,\n",
    "                            outputCol = \"features\")\n",
    "\n",
    "# Get the training data using the features and target variable\n",
    "Xy_train = (assembler.transform(train_num_df)\n",
    "                     .select(\"features\", \"target_cat\"))\n",
    "\n",
    "# Get the testing data using the features and target variable\n",
    "Xy_test = (assembler.transform(test_num_df)\n",
    "                    .select(\"features\", \"target_cat\"))"
   ]
  },
  {
   "cell_type": "code",
   "execution_count": 22,
   "metadata": {
    "collapsed": false
   },
   "outputs": [
    {
     "data": {
      "text/plain": [
       "Row(features=SparseVector(41, {1: 181.0, 2: 8.0, 6: 1.0, 7: 1.0, 19: 9.0, 20: 1.0, 24: 0.11, 26: 2.0, 28: 9.0, 31: 8.0, 33: 1.0, 34: 5450.0}), target_cat=2.0)"
      ]
     },
     "execution_count": 22,
     "metadata": {},
     "output_type": "execute_result"
    }
   ],
   "source": [
    "# Preview what our training data now looks like:\n",
    "Xy_train.first()"
   ]
  },
  {
   "cell_type": "markdown",
   "metadata": {},
   "source": [
    "## Step 4: Training a learner ##\n",
    "\n",
    "We will be using a random forest for this multiclass classification problem."
   ]
  },
  {
   "cell_type": "code",
   "execution_count": 23,
   "metadata": {
    "collapsed": true
   },
   "outputs": [],
   "source": [
    "'''\n",
    "Parameter check:\n",
    "featuresCol: the column containing the feature matrix\n",
    "labelCol:    the column containing the target label\n",
    "seed:        random seed to make the experiment replicable\n",
    "maxBins:     max number of bins to use for the splitting point in each node of the tree\n",
    "\n",
    "Default value for number of trees is 20, default depth is 5\n",
    "\n",
    "The classifier creates 3 output columns in the dataframe:\n",
    "rawPrediction: to store the prediction score for each possible label\n",
    "probability:   to store the likelihood of each label\n",
    "prediction:    the most probable label\n",
    "'''\n",
    "from pyspark.ml.classification import RandomForestClassifier\n",
    "\n",
    "clf = RandomForestClassifier(labelCol=\"target_cat\", \n",
    "                             featuresCol=\"features\", \n",
    "                             maxBins=100, \n",
    "                             seed=101)\n",
    "fit_clf = clf.fit(Xy_train)"
   ]
  },
  {
   "cell_type": "code",
   "execution_count": 24,
   "metadata": {
    "collapsed": false
   },
   "outputs": [
    {
     "name": "stdout",
     "output_type": "stream",
     "text": [
      "Random forest classifier spec: \n",
      "RandomForestClassificationModel (uid=rfc_b32f22f2ff2a) with 20 trees\n"
     ]
    }
   ],
   "source": [
    "# View the classifier\n",
    "print \"Random forest classifier spec: \\n\", fit_clf"
   ]
  },
  {
   "cell_type": "markdown",
   "metadata": {},
   "source": [
    "## Step 5: Make predictions ##"
   ]
  },
  {
   "cell_type": "code",
   "execution_count": 25,
   "metadata": {
    "collapsed": true
   },
   "outputs": [],
   "source": [
    "# Transform the classifier to make predictions\n",
    "Xy_pred_train = fit_clf.transform(Xy_train)\n",
    "Xy_pred_test = fit_clf.transform(Xy_test)"
   ]
  },
  {
   "cell_type": "code",
   "execution_count": 27,
   "metadata": {
    "collapsed": false
   },
   "outputs": [
    {
     "name": "stdout",
     "output_type": "stream",
     "text": [
      "First observation after classification stage:\n",
      "Row(features=SparseVector(41, {1: 105.0, 2: 1.0, 6: 2.0, 7: 1.0, 9: 0.01, 19: 254.0, 26: 1.0, 28: 255.0, 31: 1.0, 33: 1.0, 34: 146.0}), target_cat=2.0, rawPrediction=DenseVector([0.0283, 0.0112, 19.3474, 0.0677, 0.0251, 0.1414, 0.0357, 0.1194, 0.1309, 0.041, 0.0257, 0.0079, 0.0046, 0.0004, 0.0029, 0.0016, 0.002, 0.0023, 0.0013, 0.0008, 0.0012, 0.0006, 0.0006]), probability=DenseVector([0.0014, 0.0006, 0.9674, 0.0034, 0.0013, 0.0071, 0.0018, 0.006, 0.0065, 0.002, 0.0013, 0.0004, 0.0002, 0.0, 0.0001, 0.0001, 0.0001, 0.0001, 0.0001, 0.0, 0.0001, 0.0, 0.0]), prediction=2.0)\n"
     ]
    }
   ],
   "source": [
    "print \"First observation after classification stage:\"\n",
    "pprint.pprint(Xy_pred_test.first())\n",
    "'''\n",
    "Viewing the first line of our predictions for test set:\n",
    "\n",
    "Row(features = SparseVector(41, {1: 105.0, \n",
    "                                 2: 1.0, \n",
    "                                 6: 2.0, \n",
    "                                 7: 1.0, \n",
    "                                 9: 0.01, \n",
    "                                 19: 254.0, \n",
    "                                 26: 1.0, \n",
    "                                 28: 255.0, \n",
    "                                 31: 1.0, \n",
    "                                 33: 1.0, \n",
    "                                 34: 146.0}), \n",
    "                            target_cat=2.0, \n",
    "                            rawPrediction = DenseVector([0.0283, \n",
    "                                                         0.0112, \n",
    "                                                         19.3474, \n",
    "                                                         0.0677, \n",
    "                                                         0.0251, \n",
    "                                                         0.1414, \n",
    "                                                         0.0357, \n",
    "                                                         0.1194, \n",
    "                                                         0.1309, \n",
    "                                                         0.041, \n",
    "                                                         0.0257, \n",
    "                                                         0.0079, \n",
    "                                                         0.0046, \n",
    "                                                         0.0004, \n",
    "                                                         0.0029, \n",
    "                                                         0.0016, \n",
    "                                                         0.002, \n",
    "                                                         0.0023, \n",
    "                                                         0.0013, \n",
    "                                                         0.0008, \n",
    "                                                         0.0012, \n",
    "                                                         0.0006, \n",
    "                                                         0.0006]), \n",
    "                             probability = DenseVector([0.0014, \n",
    "                                                        0.0006, \n",
    "                                                        0.9674, \n",
    "                                                        0.0034, \n",
    "                                                        0.0013, \n",
    "                                                        0.0071, \n",
    "                                                        0.0018, \n",
    "                                                        0.006, \n",
    "                                                        0.0065, \n",
    "                                                        0.002,\n",
    "                                                        0.0013, \n",
    "                                                        0.0004, \n",
    "                                                        0.0002, \n",
    "                                                        0.0, \n",
    "                                                        0.0001, \n",
    "                                                        0.0001, \n",
    "                                                        0.0001, \n",
    "                                                        0.0001, \n",
    "                                                        0.0001, \n",
    "                                                        0.0, \n",
    "                                                        0.0001, \n",
    "                                                        0.0, \n",
    "                                                        0.0]), \n",
    "                            prediction = 2.0)\n",
    "'''"
   ]
  },
  {
   "cell_type": "markdown",
   "metadata": {},
   "source": [
    "## Step 6: Evaluate the classifier ##"
   ]
  },
  {
   "cell_type": "code",
   "execution_count": 30,
   "metadata": {
    "collapsed": false
   },
   "outputs": [
    {
     "name": "stdout",
     "output_type": "stream",
     "text": [
      "F1-score train set: 0.991904372002\n",
      "F1-score test set: 0.966840043466\n"
     ]
    }
   ],
   "source": [
    "'''\n",
    "We will be using the F score.\n",
    "'''\n",
    "\n",
    "from pyspark.ml.evaluation import MulticlassClassificationEvaluator\n",
    "evaluator = MulticlassClassificationEvaluator(labelCol = \"target_cat\", \n",
    "                                              predictionCol = \"prediction\", \n",
    "                                              metricName = \"f1\")\n",
    "\n",
    "print \"F1-score train set:\", evaluator.evaluate(Xy_pred_train)\n",
    "print \"F1-score test set:\", evaluator.evaluate(Xy_pred_test)"
   ]
  },
  {
   "cell_type": "markdown",
   "metadata": {},
   "source": [
    "## All in one step ##"
   ]
  },
  {
   "cell_type": "code",
   "execution_count": 34,
   "metadata": {
    "collapsed": false
   },
   "outputs": [
    {
     "name": "stdout",
     "output_type": "stream",
     "text": [
      "F1-score test set: 0.966840043466\n"
     ]
    }
   ],
   "source": [
    "# Define stages\n",
    "full_stages = preproc_stages + [assembler, clf]\n",
    "\n",
    "# Set the pipeline with the stages\n",
    "full_pipeline = Pipeline(stages = full_stages)\n",
    "\n",
    "# Fit the model on the training data\n",
    "full_model = full_pipeline.fit(train_df)\n",
    "\n",
    "# Make predictions on the test data\n",
    "predictions = full_model.transform(test_df)\n",
    "\n",
    "# Evaluate performance of the model\n",
    "print \"F1-score test set:\", evaluator.evaluate(predictions)"
   ]
  },
  {
   "cell_type": "markdown",
   "metadata": {},
   "source": [
    "## Step 7: Visualise our output ##"
   ]
  },
  {
   "cell_type": "code",
   "execution_count": 35,
   "metadata": {
    "collapsed": true
   },
   "outputs": [],
   "source": [
    "import matplotlib.pyplot as plt\n",
    "import numpy as np\n",
    "%matplotlib inline\n",
    " \n",
    "# Normalized confusion matrix of the classification results\n",
    "def plot_confusion_matrix(cm):\n",
    "    cm_normalized = cm.astype('float') / cm.sum(axis=1)[:, np.newaxis]\n",
    "    plt.imshow(cm_normalized, \n",
    "               interpolation='nearest', \n",
    "               cmap=plt.cm.Blues)\n",
    "    plt.title('Normalized Confusion matrix')\n",
    "    plt.colorbar()\n",
    "    plt.tight_layout()\n",
    "    plt.ylabel('True label')\n",
    "    plt.xlabel('Predicted label')"
   ]
  },
  {
   "cell_type": "code",
   "execution_count": 36,
   "metadata": {
    "collapsed": false
   },
   "outputs": [
    {
     "data": {
      "image/png": "[encoded data removed]",
      "text/plain": [
       "<matplotlib.figure.Figure at 0x7f57a4027050>"
      ]
     },
     "metadata": {},
     "output_type": "display_data"
    }
   ],
   "source": [
    "from pyspark.mllib.evaluation import MulticlassMetrics\n",
    "\n",
    "# Transform dataframe to RDD\n",
    "metrics = MulticlassMetrics(predictions\n",
    "                            .select(\"prediction\", \"target_cat\")\n",
    "                            .rdd)\n",
    "# Convert matrix to array\n",
    "conf_matrix = metrics.confusionMatrix().toArray()\n",
    "plot_confusion_matrix(conf_matrix)"
   ]
  },
  {
   "cell_type": "markdown",
   "metadata": {},
   "source": [
    "## Step 8: Understanding our results ##\n",
    "\n",
    "As we can see in our plot, our classifier does a good job of classifying the most popular classes correctly.\n",
    "\n",
    "We will now resample each class and then make predictions."
   ]
  },
  {
   "cell_type": "code",
   "execution_count": 37,
   "metadata": {
    "collapsed": false
   },
   "outputs": [
    {
     "data": {
      "text/plain": [
       "{u'back': 2203,\n",
       " u'buffer_overflow': 30,\n",
       " u'ftp_write': 8,\n",
       " u'guess_passwd': 53,\n",
       " u'imap': 12,\n",
       " u'ipsweep': 1247,\n",
       " u'land': 21,\n",
       " u'loadmodule': 9,\n",
       " u'multihop': 7,\n",
       " u'neptune': 107201,\n",
       " u'nmap': 231,\n",
       " u'normal': 97278,\n",
       " u'perl': 3,\n",
       " u'phf': 4,\n",
       " u'pod': 264,\n",
       " u'portsweep': 1040,\n",
       " u'rootkit': 10,\n",
       " u'satan': 1589,\n",
       " u'smurf': 280790,\n",
       " u'spy': 2,\n",
       " u'teardrop': 979,\n",
       " u'warezclient': 1020,\n",
       " u'warezmaster': 20}"
      ]
     },
     "execution_count": 37,
     "metadata": {},
     "output_type": "execute_result"
    }
   ],
   "source": [
    "# How many classifications of each type are there?\n",
    "train_composition = train_df.groupBy(\"target\")\n",
    "                            .count()\n",
    "                            .rdd\n",
    "                            .collectAsMap()\n",
    "train_composition"
   ]
  },
  {
   "cell_type": "markdown",
   "metadata": {},
   "source": [
    "The range of targets go from 2203 to 0. To mitigate this  we can oversample rare classes and subsample popular classes.\n",
    "\n",
    "We will create a training dataset where each class is represented at least 1000 times, up to 25,000."
   ]
  },
  {
   "cell_type": "markdown",
   "metadata": {},
   "source": [
    "## Step 8.1: Oversampling and subsampling ##"
   ]
  },
  {
   "cell_type": "code",
   "execution_count": 39,
   "metadata": {
    "collapsed": false
   },
   "outputs": [
    {
     "name": "stdout",
     "output_type": "stream",
     "text": [
      "Sample rates for the targets are: \n",
      "\n",
      "{u'back': 1,\n",
      " u'buffer_overflow': 33.333333333333336,\n",
      " u'ftp_write': 125.0,\n",
      " u'guess_passwd': 18.867924528301888,\n",
      " u'imap': 83.33333333333333,\n",
      " u'ipsweep': 1,\n",
      " u'land': 47.61904761904762,\n",
      " u'loadmodule': 111.11111111111111,\n",
      " u'multihop': 142.85714285714286,\n",
      " u'neptune': 0.23320677978750198,\n",
      " u'nmap': 4.329004329004329,\n",
      " u'normal': 0.2569954152017928,\n",
      " u'perl': 333.3333333333333,\n",
      " u'phf': 250.0,\n",
      " u'pod': 3.787878787878788,\n",
      " u'portsweep': 1,\n",
      " u'rootkit': 100.0,\n",
      " u'satan': 1,\n",
      " u'smurf': 0.08903450977598917,\n",
      " u'spy': 500.0,\n",
      " u'teardrop': 1.0214504596527068,\n",
      " u'warezclient': 1,\n",
      " u'warezmaster': 50.0}\n"
     ]
    }
   ],
   "source": [
    "# Oversample rare classes and subsample popular classes.\n",
    "def set_sample_rate_between_vals(cnt, the_min, the_max):\n",
    "    if the_min <= cnt <= the_max:\n",
    "        # no sampling\n",
    "        return 1\n",
    "    # Oversample popular classes\n",
    "    elif cnt < the_min:\n",
    "        # Oversampling: return many times the same observation\n",
    "        return the_min/float(cnt)\n",
    "\n",
    "    else:\n",
    "        # Subsample rare classes\n",
    "        # Subsampling: sometime don't return it\n",
    "        return the_max/float(cnt)\n",
    "        \n",
    "sample_rates = {k:set_sample_rate_between_vals(v, 1000, 25000) \n",
    "                for k,v in train_composition.iteritems()} \n",
    "print 'Sample rates for the targets are: \\n'\n",
    "pprint.pprint(sample_rates)"
   ]
  },
  {
   "cell_type": "code",
   "execution_count": 40,
   "metadata": {
    "collapsed": true
   },
   "outputs": [],
   "source": [
    "# Broadcast to all nodes\n",
    "bc_sample_rates = sc.broadcast(sample_rates)\n",
    "\n",
    "\n",
    "def map_and_sample(el, rates):\n",
    "    rate = rates.value[el['target']]\n",
    "    if rate > 1:\n",
    "        return [el]*int(rate)\n",
    "    else:\n",
    "        import random\n",
    "        return [el] if random.random() < rate else []\n",
    "\n",
    "sampled_train_df = (train_df\n",
    "                   .flatMap(\n",
    "                     lambda x: map_and_sample(x, bc_sample_rates))\n",
    "                   .toDF()\n",
    "                   .cache())"
   ]
  },
  {
   "cell_type": "code",
   "execution_count": 41,
   "metadata": {
    "collapsed": false
   },
   "outputs": [
    {
     "data": {
      "text/plain": [
       "96901"
      ]
     },
     "execution_count": 41,
     "metadata": {},
     "output_type": "execute_result"
    }
   ],
   "source": [
    "# Check number of lines in the new sampled training set\n",
    "sampled_train_df.count()"
   ]
  },
  {
   "cell_type": "code",
   "execution_count": 42,
   "metadata": {
    "collapsed": false
   },
   "outputs": [
    {
     "data": {
      "text/plain": [
       "Row(duration=0.0, protocol_type=u'tcp', service=u'http', flag=u'SF', src_bytes=219.0, dst_bytes=1337.0, land=0.0, wrong_fragment=0.0, urgent=0.0, hot=0.0, num_failed_logins=0.0, logged_in=1.0, num_compromised=0.0, root_shell=0.0, su_attempted=0.0, num_root=0.0, num_file_creations=0.0, num_shells=0.0, num_access_files=0.0, num_outbound_cmds=0.0, is_host_login=0.0, is_guest_login=0.0, count=6.0, srv_count=6.0, serror_rate=0.0, srv_serror_rate=0.0, rerror_rate=0.0, srv_rerror_rate=0.0, same_srv_rate=1.0, diff_srv_rate=0.0, srv_diff_host_rate=0.0, dst_host_count=39.0, dst_host_srv_count=39.0, dst_host_same_srv_rate=1.0, dst_host_diff_srv_rate=0.0, dst_host_same_src_port_rate=0.03, dst_host_srv_diff_host_rate=0.0, dst_host_serror_rate=0.0, dst_host_srv_serror_rate=0.0, dst_host_rerror_rate=0.0, dst_host_srv_rerror_rate=0.0, target=u'normal')"
      ]
     },
     "execution_count": 42,
     "metadata": {},
     "output_type": "execute_result"
    }
   ],
   "source": [
    "# Preview of the data in the new sampled training set\n",
    "sampled_train_df.first()"
   ]
  },
  {
   "cell_type": "markdown",
   "metadata": {},
   "source": [
    "## Step 8.2: Pipeline to make prediction on new sampled dataset ##"
   ]
  },
  {
   "cell_type": "code",
   "execution_count": 43,
   "metadata": {
    "collapsed": false
   },
   "outputs": [
    {
     "name": "stdout",
     "output_type": "stream",
     "text": [
      "F1-score test set: 0.96846934656\n"
     ]
    }
   ],
   "source": [
    "# Fit the sampled data\n",
    "full_model = full_pipeline.fit(sampled_train_df)\n",
    "\n",
    "# Make predictions on the test data\n",
    "predictions = full_model.transform(test_df)\n",
    "\n",
    "# Evaluate performance\n",
    "print \"F1-score test set:\", evaluator.evaluate(predictions)"
   ]
  },
  {
   "cell_type": "markdown",
   "metadata": {},
   "source": [
    "### Build another pipeline `refined_pipeline` and substitute the final stage with a new classifier with 50 trees."
   ]
  },
  {
   "cell_type": "code",
   "execution_count": 44,
   "metadata": {
    "collapsed": false
   },
   "outputs": [
    {
     "name": "stdout",
     "output_type": "stream",
     "text": [
      "F1-score test set: 0.967655096048\n"
     ]
    }
   ],
   "source": [
    "# Define the classifier\n",
    "clf = RandomForestClassifier(numTrees=50, \n",
    "                             maxBins=100, \n",
    "                             seed=101,\n",
    "                             labelCol=\"target_cat\", \n",
    "                             featuresCol=\"features\")\n",
    "\n",
    "# Get the stages\n",
    "stages = full_pipeline.getStages()[:-1]\n",
    "stages.append(clf)\n",
    "\n",
    "# Set the stages into the pipeline\n",
    "refined_pipeline = Pipeline(stages=stages)\n",
    "\n",
    "# Fit the model usng the training data\n",
    "refined_model = refined_pipeline.fit(sampled_train_df)\n",
    "\n",
    "# Make predictions on the test data\n",
    "predictions = refined_model.transform(test_df)\n",
    "\n",
    "# F1 score\n",
    "print \"F1-score test set:\", evaluator.evaluate(predictions)"
   ]
  },
  {
   "cell_type": "markdown",
   "metadata": {},
   "source": [
    "## Step 8.3: Cross Validation ##"
   ]
  },
  {
   "cell_type": "code",
   "execution_count": 46,
   "metadata": {
    "collapsed": false
   },
   "outputs": [],
   "source": [
    "# Cache the training data\n",
    "pipeline_to_clf = Pipeline(stages = preproc_stages + [assembler]).fit(sampled_train_df)\n",
    "\n",
    "# Cache the trained model\n",
    "train = pipeline_to_clf.transform(sampled_train_df).cache()\n",
    "test = pipeline_to_clf.transform(test_df)"
   ]
  },
  {
   "cell_type": "markdown",
   "metadata": {},
   "source": [
    "## Step 8.4 Hyperparameter optimization ##\n",
    "\n",
    "We need:\n",
    "\n",
    "* Grid map of parameters - ParamGridBuilder\n",
    "* Cross validation procedure - CrossValidator"
   ]
  },
  {
   "cell_type": "code",
   "execution_count": 47,
   "metadata": {
    "collapsed": true
   },
   "outputs": [],
   "source": [
    "\n",
    "from pyspark.ml.tuning import ParamGridBuilder, CrossValidator\n",
    "\n",
    "# Define the classifier\n",
    "rf = RandomForestClassifier(cacheNodeIds=True, \n",
    "                            seed=101, \n",
    "                            labelCol=\"target_cat\", \n",
    "                            featuresCol=\"features\", \n",
    "                            maxBins=100)\n",
    "\n",
    "# Hyperparameter optimization - maximum depth and number of trees\n",
    "grid = (ParamGridBuilder() \n",
    "        .addGrid(rf.maxDepth, [3, 6, 9, 12]) \n",
    "        .addGrid(rf.numTrees, [20, 50]) \n",
    "        .build())\n",
    "\n",
    "# Define cross validator\n",
    "cv = CrossValidator(estimator = rf, \n",
    "                    estimatorParamMaps = grid, \n",
    "                    evaluator = evaluator, \n",
    "                    numFolds=3)\n",
    "\n",
    "# Fit model on training set\n",
    "cvModel = cv.fit(train)"
   ]
  },
  {
   "cell_type": "markdown",
   "metadata": {},
   "source": [
    "## Step 8.5: Make predictions ##"
   ]
  },
  {
   "cell_type": "code",
   "execution_count": 48,
   "metadata": {
    "collapsed": false
   },
   "outputs": [
    {
     "name": "stdout",
     "output_type": "stream",
     "text": [
      "F1-score test set: 0.970347508684\n"
     ]
    }
   ],
   "source": [
    "# Make predictions\n",
    "predictions = cvModel.transform(test)\n",
    "print \"F1-score test set:\", evaluator.evaluate(predictions)"
   ]
  },
  {
   "cell_type": "markdown",
   "metadata": {},
   "source": [
    "## Step 8.6: Plot confusion matrix ##"
   ]
  },
  {
   "cell_type": "code",
   "execution_count": 49,
   "metadata": {
    "collapsed": false
   },
   "outputs": [
    {
     "data": {
      "image/png": "[encoded data removed]",
      "text/plain": [
       "<matplotlib.figure.Figure at 0x7f579ef59cd0>"
      ]
     },
     "metadata": {},
     "output_type": "display_data"
    }
   ],
   "source": [
    "# Metrics calculated on predictions vs target_cat\n",
    "metrics = MulticlassMetrics(predictions.select(\"prediction\", \"target_cat\").rdd)\n",
    "\n",
    "# Cast values to array\n",
    "conf_matrix = metrics.confusionMatrix().toArray()\n",
    "\n",
    "# Plot matrix\n",
    "plot_confusion_matrix(conf_matrix)"
   ]
  },
  {
   "cell_type": "markdown",
   "metadata": {},
   "source": [
    "Now we are able discover a wider variety of attacks, even the unpopular ones."
   ]
  },
  {
   "cell_type": "markdown",
   "metadata": {},
   "source": [
    "## Step 9: Memory cleanup ##"
   ]
  },
  {
   "cell_type": "code",
   "execution_count": 50,
   "metadata": {
    "collapsed": false
   },
   "outputs": [
    {
     "data": {
      "text/plain": [
       "DataFrame[duration: double, protocol_type: string, service: string, flag: string, src_bytes: double, dst_bytes: double, land: double, wrong_fragment: double, urgent: double, hot: double, num_failed_logins: double, logged_in: double, num_compromised: double, root_shell: double, su_attempted: double, num_root: double, num_file_creations: double, num_shells: double, num_access_files: double, num_outbound_cmds: double, is_host_login: double, is_guest_login: double, count: double, srv_count: double, serror_rate: double, srv_serror_rate: double, rerror_rate: double, srv_rerror_rate: double, same_srv_rate: double, diff_srv_rate: double, srv_diff_host_rate: double, dst_host_count: double, dst_host_srv_count: double, dst_host_same_srv_rate: double, dst_host_diff_srv_rate: double, dst_host_same_src_port_rate: double, dst_host_srv_diff_host_rate: double, dst_host_serror_rate: double, dst_host_srv_serror_rate: double, dst_host_rerror_rate: double, dst_host_srv_rerror_rate: double, target: string, protocol_type_cat: double, service_cat: double, flag_cat: double, target_cat: double, features: vector]"
      ]
     },
     "execution_count": 50,
     "metadata": {},
     "output_type": "execute_result"
    }
   ],
   "source": [
    "# Unpersist all data objects\n",
    "bc_sample_rates.unpersist()\n",
    "sampled_train_df.unpersist()\n",
    "train.unpersist()"
   ]
  },
  {
   "cell_type": "code",
   "execution_count": null,
   "metadata": {
    "collapsed": true
   },
   "outputs": [],
   "source": []
  }
 ],
 "metadata": {
  "kernelspec": {
   "display_name": "Python 2",
   "language": "python",
   "name": "python2"
  },
  "language_info": {
   "codemirror_mode": {
    "name": "ipython",
    "version": 2
   },
   "file_extension": ".py",
   "mimetype": "text/x-python",
   "name": "python",
   "nbconvert_exporter": "python",
   "pygments_lexer": "ipython2",
   "version": "2.7.6"
  }
 },
 "nbformat": 4,
 "nbformat_minor": 0
}

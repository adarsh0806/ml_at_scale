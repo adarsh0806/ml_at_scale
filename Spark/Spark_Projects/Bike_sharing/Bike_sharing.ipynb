{
 "cells": [
  {
   "cell_type": "markdown",
   "metadata": {},
   "source": [
    "# Load Spark notebook #\n",
    "\n",
    "`Adarshs-MacBook-Pro:spark-2.0.1-bin-hadoop2.7 adarshnair$ PYSPARK_DRIVER_PYTHON=\"/Users/adarshnair/graphlab/anaconda/bin/jupyter-notebook\" ./bin/pyspark`"
   ]
  },
  {
   "cell_type": "markdown",
   "metadata": {},
   "source": [
    "# Spark regression models #\n",
    "\n",
    "There are 3 criterions to consider when comparing classification and regression models in Spark:\n",
    "\n",
    "* Loss function\n",
    "* Link function: for regression it is the identity link function which assumes normal distribution of data.\n",
    "* Decision function\n",
    "\n",
    "<img src =\"linkfunction.png\">\n",
    "Image taken from https://en.wikipedia.org/wiki/Generalized_linear_model#Link_function\n",
    "\n",
    "Sparks MLlib library allows for two different kinds of regression models:\n",
    "\n",
    "* Linear models: Least squares regression with L1(lasso) or L2(ridge) regularization. Loss function used squared loss.\n",
    "\n",
    "This is susceptible to outliers in the data and also to over fitting. \n",
    "\n",
    "* Decision trees: Uses 'variance' as the measure for impurity."
   ]
  },
  {
   "cell_type": "markdown",
   "metadata": {},
   "source": [
    "# Step 0: Introduction to the dataset #\n",
    "\n",
    "We will be using the Bike sharing dataset from:https://archive.ics.uci.edu/ml/datasets/Bike+Sharing+Dataset\n",
    "\n",
    "This project is a Kaggle competition - https://www.kaggle.com/c/bike-sharing-demand\n",
    "\n",
    "Our objective is here to design a model that can predict the total number of bike reservations - ** cnt **.\n",
    "\n",
    "Both **hour.csv** and **day.csv** have the following fields, except hr which is not available in day.csv\n",
    "\n",
    "- instant: record index\n",
    "- dteday : date\n",
    "- season : season (1:springer, 2:summer, 3:fall, 4:winter)\n",
    "- yr     : year (0: 2011, 1:2012)\n",
    "- mnth : month ( 1 to 12)\n",
    "- hr : hour (0 to 23)\n",
    "- holiday : weather day is holiday or not (extracted from [Web Link])\n",
    "- weekday : day of the week\n",
    "- workingday : if day is neither weekend nor holiday is 1, otherwise is 0.\n",
    "+ weathersit : \n",
    "    - 1: Clear, Few clouds, Partly cloudy, Partly cloudy\n",
    "    - 2: Mist + Cloudy, Mist + Broken clouds, Mist + Few clouds, Mist\n",
    "    - 3: Light Snow, Light Rain + Thunderstorm + Scattered clouds, Light Rain + Scattered clouds\n",
    "    - 4: Heavy Rain + Ice Pallets + Thunderstorm + Mist, Snow + Fog\n",
    "- temp : Normalized temperature in Celsius. The values are derived via (t-t_min)/(t_max-t_min), t_min=-8, t_max=+39 (only in hourly scale)\n",
    "- atemp: Normalized feeling temperature in Celsius. The values are derived via (t-t_min)/(t_max-t_min), t_min=-16, t_max=+50 (only in hourly scale)\n",
    "- hum: Normalized humidity. The values are divided to 100 (max)\n",
    "- windspeed: Normalized wind speed. The values are divided to 67 (max)\n",
    "- casual: count of casual users\n",
    "- registered: count of registered users\n",
    "- cnt: count of total rental bikes including both casual and registered\n",
    "\n",
    "Check the first line of the hour.csv file:\n",
    "\n",
    "`Adarshs-MacBook-Pro:Bike-Sharing-Dataset adarshnair$ head -1 hour.csv\n",
    "instant,dteday,season,yr,mnth,hr,holiday,weekday,workingday,weathersit,temp,atemp,hum,windspeed,casual,registered,cnt`"
   ]
  },
  {
   "cell_type": "markdown",
   "metadata": {},
   "source": [
    "Remove the first line and save into a new CSV called hour_noheader.csv\n",
    "\n",
    "`Adarshs-MacBook-Pro:Bike-Sharing-Dataset adarshnair$ sed 1d hour.csv > hour_noheader.csv`"
   ]
  },
  {
   "cell_type": "code",
   "execution_count": 1,
   "metadata": {
    "collapsed": false
   },
   "outputs": [
    {
     "name": "stdout",
     "output_type": "stream",
     "text": [
      "Populating the interactive namespace from numpy and matplotlib\n"
     ]
    }
   ],
   "source": [
    "%pylab inline"
   ]
  },
  {
   "cell_type": "markdown",
   "metadata": {},
   "source": [
    "# Step 1.0: Data preprocessing and investigation #"
   ]
  },
  {
   "cell_type": "code",
   "execution_count": 2,
   "metadata": {
    "collapsed": true
   },
   "outputs": [],
   "source": [
    "'''\n",
    "Load dataset\n",
    "'''\n",
    "path = \"/Users/adarshnair/spark-2.0.1-bin-hadoop2.7/spark_projects/Regression/Bike-Sharing-Dataset/hour_noheader.csv\"\n",
    "raw_data = sc.textFile(path)"
   ]
  },
  {
   "cell_type": "code",
   "execution_count": 4,
   "metadata": {
    "collapsed": false
   },
   "outputs": [
    {
     "name": "stdout",
     "output_type": "stream",
     "text": [
      "17379\n"
     ]
    }
   ],
   "source": [
    "'''\n",
    "Get the number of rows in our dataset\n",
    "'''\n",
    "num_data = raw_data.count()\n",
    "print num_data"
   ]
  },
  {
   "cell_type": "code",
   "execution_count": 5,
   "metadata": {
    "collapsed": false
   },
   "outputs": [
    {
     "name": "stdout",
     "output_type": "stream",
     "text": [
      "[u'1', u'2011-01-01', u'1', u'0', u'1', u'0', u'0', u'6', u'0', u'1', u'0.24', u'0.2879', u'0.81', u'0', u'3', u'13', u'16']\n"
     ]
    }
   ],
   "source": [
    "'''\n",
    "Split the data on ','. What we get is the RDD we will be using for the rest of our analysis.\n",
    "'''\n",
    "records = raw_data.map(lambda x: x.split(\",\"))\n",
    "print records.first()"
   ]
  },
  {
   "cell_type": "code",
   "execution_count": 6,
   "metadata": {
    "collapsed": false
   },
   "outputs": [
    {
     "data": {
      "text/plain": [
       "PythonRDD[5] at RDD at PythonRDD.scala:48"
      ]
     },
     "execution_count": 6,
     "metadata": {},
     "output_type": "execute_result"
    }
   ],
   "source": [
    "'''\n",
    "Cache dataset for further use\n",
    "'''\n",
    "records.cache()"
   ]
  },
  {
   "cell_type": "markdown",
   "metadata": {},
   "source": [
    "### Analyse our features\n",
    "`Adarshs-MacBook-Pro:Bike-Sharing-Dataset adarshnair$ head -1 hour.csv`\n",
    "    \n",
    "instant,dteday,season,yr,mnth,hr,holiday,weekday,workingday,weathersit,temp,atemp,hum,windspeed,casual,registered,cnt\n",
    "\n",
    "We will ignore these columns(casual + registered = cnt which is our target variable):\n",
    "* instant - index variable\n",
    "* casual - (casual + registered) is stored in cnt\n",
    "* registered - (casual + registered) is stored in cnt\n",
    "\n",
    "The categorical features are as follows:\n",
    "\n",
    "* season : season (1:springer, 2:summer, 3:fall, 4:winter)\n",
    "* yr : year (0: 2011, 1:2012)\n",
    "* mnth : month ( 1 to 12)\n",
    "* hr : hour (0 to 23)\n",
    "* holiday : weather day is holiday or not (extracted from [Web Link])\n",
    "* weekday : day of the week\n",
    "* workingday : if day is neither weekend nor holiday is 1, otherwise is 0.\n",
    "* weathersit : (1,2,3,4)\n",
    "\n",
    "The count values are as follows:\n",
    "\n",
    "* temp : normalized\n",
    "* atemp: normalized\n",
    "* hum: normalized\n",
    "* windspeed: normalized\n",
    "* cnt: count of total rental bikes including both casual and registered\n",
    "\n",
    "To get the feature vector for the categorical features in a binary vector form, we will need to know the feature mapping of each feature value to the index of the non zero value in our  binary vector.                                                                                                                                                                                                                                                                                                                            "
   ]
  },
  {
   "cell_type": "code",
   "execution_count": 8,
   "metadata": {
    "collapsed": true
   },
   "outputs": [],
   "source": [
    "'''\n",
    "Get the categorical feature mapping for a given variable column(feature)\n",
    "\n",
    "- map the field to its unique value\n",
    "- use zipWithIndex() to zip the value with a unique index such that a key-value RDD is generated \n",
    "- the key is the variable and the value is the index.\n",
    "- this index will be the non zero entry int he binary vector representation of the feature\n",
    "- collect this RDD back as a dictionary using collectAsMap()\n",
    "\n",
    "The input to the function will be the RDD we are using(rdd-records), and the index(idx) of the feature we are mapping.\n",
    "'''\n",
    "def get_mapping(rdd, idx):\n",
    "    return rdd.map(lambda fields: fields[idx]).distinct().zipWithIndex().collectAsMap()"
   ]
  },
  {
   "cell_type": "code",
   "execution_count": 9,
   "metadata": {
    "collapsed": false
   },
   "outputs": [
    {
     "name": "stdout",
     "output_type": "stream",
     "text": [
      "Mapping of first categorical feasture column: {u'1': 0, u'3': 1, u'2': 2, u'4': 3}\n"
     ]
    }
   ],
   "source": [
    "'''\n",
    "We need to get the feature mappings for features 2 to 9. (we ignored the first feature)\n",
    "'''\n",
    "# Test function out for feature number 2\n",
    "print \"Mapping of first categorical feasture column: %s\" % get_mapping(records, 2)"
   ]
  },
  {
   "cell_type": "code",
   "execution_count": 10,
   "metadata": {
    "collapsed": true
   },
   "outputs": [],
   "source": [
    "'''\n",
    "Applying feature mapping to all features(2-9)\n",
    "'''\n",
    "mappings = [get_mapping(records, i) for i in range(2,10)]"
   ]
  },
  {
   "cell_type": "code",
   "execution_count": 12,
   "metadata": {
    "collapsed": false
   },
   "outputs": [
    {
     "name": "stdout",
     "output_type": "stream",
     "text": [
      "Length of categorical features:  57\n",
      "Length of numerical features(including casual and registered):  4\n",
      "Total length of features:  61\n"
     ]
    }
   ],
   "source": [
    "'''\n",
    "Get the new feature length for categorical features and numerical features\n",
    "'''\n",
    "cat_len = sum(map(len, mappings))\n",
    "num_len = len(records.first()[11:15])\n",
    "total_len = cat_len + num_len\n",
    "print \"Length of categorical features: \", cat_len\n",
    "print \"Length of numerical features(including casual and registered): \", num_len\n",
    "print \"Total length of features: \", total_len"
   ]
  },
  {
   "cell_type": "markdown",
   "metadata": {},
   "source": [
    "# Step 1.1: Creating feature vectors for a linear model #\n",
    "\n",
    "We have to convert the categorical features to binary encoded features."
   ]
  },
  {
   "cell_type": "code",
   "execution_count": 14,
   "metadata": {
    "collapsed": true
   },
   "outputs": [],
   "source": [
    "'''Function to convert label in last column to float'''\n",
    "def extract_label(record):\n",
    "    return float(record[-1])"
   ]
  },
  {
   "cell_type": "code",
   "execution_count": 15,
   "metadata": {
    "collapsed": true
   },
   "outputs": [],
   "source": [
    "'''\n",
    "Function to create feature mappings to extract binary feature vectors and concatenate with numerical feature vectors.\n",
    "'''\n",
    "from pyspark.mllib.regression import LabeledPoint # to wrap feature vectors and target variables\n",
    "import numpy as np\n",
    "\n",
    "\n",
    "def extract_features(record):\n",
    "    cat_vec = np.zeros(cat_len)\n",
    "    i = 0\n",
    "    step = 0\n",
    "    # go through the categorical features from column to 2 to 9\n",
    "    for field in record[2:9]:\n",
    "        # mappings has the encoded categorical features\n",
    "        m = mappings[i]\n",
    "        # index is the value of the dict\n",
    "        idx = m[field]\n",
    "        cat_vec[idx + step] = 1\n",
    "        i = i + 1\n",
    "        step = step + len(m)\n",
    "    \n",
    "    # Converting the data to float and then wrapping in a numpy array.\n",
    "    num_vec = np.array([float(field) for field in record[10:14]])\n",
    "    return np.concatenate((cat_vec, num_vec))"
   ]
  },
  {
   "cell_type": "code",
   "execution_count": 19,
   "metadata": {
    "collapsed": false
   },
   "outputs": [
    {
     "name": "stdout",
     "output_type": "stream",
     "text": [
      "\n",
      "Raw data: [u'1', u'0', u'1', u'0', u'0', u'6', u'0', u'1', u'0.24', u'0.2879', u'0.81', u'0', u'3', u'13', u'16']\n",
      "\n",
      "Label: 16.0\n",
      "\n",
      "Linear Model feature vector:\n",
      "[1.0,0.0,0.0,0.0,0.0,1.0,0.0,1.0,0.0,0.0,0.0,0.0,0.0,0.0,0.0,0.0,0.0,0.0,0.0,0.0,0.0,0.0,0.0,0.0,0.0,0.0,0.0,0.0,0.0,0.0,0.0,0.0,0.0,0.0,0.0,0.0,1.0,0.0,0.0,0.0,0.0,0.0,0.0,1.0,0.0,0.0,0.0,0.0,0.0,0.0,1.0,0.0,1.0,0.0,0.0,0.0,0.0,0.24,0.2879,0.81,0.0]\n",
      "\n",
      "Linear Model feature vector length: 61\n"
     ]
    }
   ],
   "source": [
    "'''\n",
    "Extract feature vectors(extract_features()) and labels(extract_labe()) and wrap them using LabeledPoint.\n",
    "'''\n",
    "# RDD records after being transformed is now stored in `data`\n",
    "data = records.map(lambda r: LabeledPoint(extract_label(r), extract_features(r)))\n",
    "first_point = data.first()\n",
    "first = records.first()\n",
    "\n",
    "# RDD values for first row without any conversions\n",
    "print \"\\nRaw data: \" + str(first[2:])\n",
    "\n",
    "# Label is 16th column\n",
    "print \"\\nLabel: \" + str(first_point.label)\n",
    "\n",
    "# data RDD values\n",
    "print \"\\nLinear Model feature vector:\\n\" + str(first_point.features)\n",
    "\n",
    "# As we can see, barring the count variables(0.24, 0.2789, 0.81) the rest of our features are now in binary vector\n",
    "# encoding form.\n",
    "print \"\\nLinear Model feature vector length: \" + str(len(first_point.features))"
   ]
  },
  {
   "cell_type": "markdown",
   "metadata": {},
   "source": [
    "# Step 1.2 Creating feature vectors for Decision Tree model #\n",
    "\n",
    "Decision trees do not require us to convert categorical features into binary vector encoding form."
   ]
  },
  {
   "cell_type": "code",
   "execution_count": 20,
   "metadata": {
    "collapsed": true
   },
   "outputs": [],
   "source": [
    "'''\n",
    "Function to convert all values to floats and wraps them in a numpy array\n",
    "'''\n",
    "def extract_features_dt(record):\n",
    "    return np.array(map(float, record[2:14]))"
   ]
  },
  {
   "cell_type": "code",
   "execution_count": 21,
   "metadata": {
    "collapsed": false
   },
   "outputs": [
    {
     "name": "stdout",
     "output_type": "stream",
     "text": [
      "\n",
      "Decision Tree feature vector: [1.0,0.0,1.0,0.0,0.0,6.0,0.0,1.0,0.24,0.2879,0.81,0.0]\n",
      "\n",
      "Decision Tree feature vector length: 12\n"
     ]
    }
   ],
   "source": [
    "'''\n",
    "Wrap the features and labels using LabeledPoint() and store the RDD for decision trees in data_dt\n",
    "'''\n",
    "data_dt = records.map(lambda r: LabeledPoint(extract_label(r), extract_features_dt(r)))\n",
    "\n",
    "# First row\n",
    "first_point_dt = data_dt.first()\n",
    "\n",
    "# Transformed feature set(into floats), first row\n",
    "print \"\\nDecision Tree feature vector: \" + str(first_point_dt.features)\n",
    "print \"\\nDecision Tree feature vector length: \" + str(len(first_point_dt.features))"
   ]
  },
  {
   "cell_type": "markdown",
   "metadata": {},
   "source": [
    "# Step 2: Training the model #\n",
    "\n",
    "To train the model, we have to pass in the training data in the LabeledPoint RDD to the `train` method. In scala to tune the parameters of the model we have to create a new instance of the model and use the `optimizer` field to access the parameters."
   ]
  },
  {
   "cell_type": "code",
   "execution_count": 22,
   "metadata": {
    "collapsed": false
   },
   "outputs": [
    {
     "name": "stdout",
     "output_type": "stream",
     "text": [
      "Help on method train in module pyspark.mllib.regression:\n",
      "\n",
      "train(cls, data, iterations=100, step=1.0, miniBatchFraction=1.0, initialWeights=None, regParam=0.0, regType=None, intercept=False, validateData=True, convergenceTol=0.001) method of __builtin__.type instance\n",
      "    Train a linear regression model using Stochastic Gradient\n",
      "    Descent (SGD). This solves the least squares regression\n",
      "    formulation\n",
      "    \n",
      "        f(weights) = 1/(2n) ||A weights - y||^2\n",
      "    \n",
      "    which is the mean squared error. Here the data matrix has n rows,\n",
      "    and the input RDD holds the set of rows of A, each with its\n",
      "    corresponding right hand side label y.\n",
      "    See also the documentation for the precise formulation.\n",
      "    \n",
      "    :param data:\n",
      "      The training data, an RDD of LabeledPoint.\n",
      "    :param iterations:\n",
      "      The number of iterations.\n",
      "      (default: 100)\n",
      "    :param step:\n",
      "      The step parameter used in SGD.\n",
      "      (default: 1.0)\n",
      "    :param miniBatchFraction:\n",
      "      Fraction of data to be used for each SGD iteration.\n",
      "      (default: 1.0)\n",
      "    :param initialWeights:\n",
      "      The initial weights.\n",
      "      (default: None)\n",
      "    :param regParam:\n",
      "      The regularizer parameter.\n",
      "      (default: 0.0)\n",
      "    :param regType:\n",
      "      The type of regularizer used for training our model.\n",
      "      Supported values:\n",
      "    \n",
      "        - \"l1\" for using L1 regularization\n",
      "        - \"l2\" for using L2 regularization\n",
      "        - None for no regularization (default)\n",
      "    :param intercept:\n",
      "      Boolean parameter which indicates the use or not of the\n",
      "      augmented representation for training data (i.e., whether bias\n",
      "      features are activated or not).\n",
      "      (default: False)\n",
      "    :param validateData:\n",
      "      Boolean parameter which indicates if the algorithm should\n",
      "      validate data before training.\n",
      "      (default: True)\n",
      "    :param convergenceTol:\n",
      "      A condition which decides iteration termination.\n",
      "      (default: 0.001)\n",
      "    \n",
      "    .. versionadded:: 0.9.0\n",
      "\n"
     ]
    }
   ],
   "source": [
    "# Necessary imports\n",
    "from pyspark.mllib.regression import LinearRegressionWithSGD\n",
    "from pyspark.mllib.tree import DecisionTree\n",
    "\n",
    "# View parameters of the Linear Regression\n",
    "help(LinearRegressionWithSGD.train)"
   ]
  },
  {
   "cell_type": "code",
   "execution_count": 23,
   "metadata": {
    "collapsed": false
   },
   "outputs": [
    {
     "name": "stdout",
     "output_type": "stream",
     "text": [
      "Help on method trainRegressor in module pyspark.mllib.tree:\n",
      "\n",
      "trainRegressor(cls, data, categoricalFeaturesInfo, impurity='variance', maxDepth=5, maxBins=32, minInstancesPerNode=1, minInfoGain=0.0) method of __builtin__.type instance\n",
      "    Train a decision tree model for regression.\n",
      "    \n",
      "    :param data:\n",
      "      Training data: RDD of LabeledPoint. Labels are real numbers.\n",
      "    :param categoricalFeaturesInfo:\n",
      "      Map storing arity of categorical features. An entry (n -> k)\n",
      "      indicates that feature n is categorical with k categories\n",
      "      indexed from 0: {0, 1, ..., k-1}.\n",
      "    :param impurity:\n",
      "      Criterion used for information gain calculation.\n",
      "      The only supported value for regression is \"variance\".\n",
      "      (default: \"variance\")\n",
      "    :param maxDepth:\n",
      "      Maximum depth of tree (e.g. depth 0 means 1 leaf node, depth 1\n",
      "      means 1 internal node + 2 leaf nodes).\n",
      "      (default: 5)\n",
      "    :param maxBins:\n",
      "      Number of bins used for finding splits at each node.\n",
      "      (default: 32)\n",
      "    :param minInstancesPerNode:\n",
      "      Minimum number of instances required at child nodes to create\n",
      "      the parent split.\n",
      "      (default: 1)\n",
      "    :param minInfoGain:\n",
      "      Minimum info gain required to create a split.\n",
      "      (default: 0.0)\n",
      "    :return:\n",
      "      DecisionTreeModel.\n",
      "    \n",
      "    Example usage:\n",
      "    \n",
      "    >>> from pyspark.mllib.regression import LabeledPoint\n",
      "    >>> from pyspark.mllib.tree import DecisionTree\n",
      "    >>> from pyspark.mllib.linalg import SparseVector\n",
      "    >>>\n",
      "    >>> sparse_data = [\n",
      "    ...     LabeledPoint(0.0, SparseVector(2, {0: 0.0})),\n",
      "    ...     LabeledPoint(1.0, SparseVector(2, {1: 1.0})),\n",
      "    ...     LabeledPoint(0.0, SparseVector(2, {0: 0.0})),\n",
      "    ...     LabeledPoint(1.0, SparseVector(2, {1: 2.0}))\n",
      "    ... ]\n",
      "    >>>\n",
      "    >>> model = DecisionTree.trainRegressor(sc.parallelize(sparse_data), {})\n",
      "    >>> model.predict(SparseVector(2, {1: 1.0}))\n",
      "    1.0\n",
      "    >>> model.predict(SparseVector(2, {1: 0.0}))\n",
      "    0.0\n",
      "    >>> rdd = sc.parallelize([[0.0, 1.0], [0.0, 0.0]])\n",
      "    >>> model.predict(rdd).collect()\n",
      "    [1.0, 0.0]\n",
      "    \n",
      "    .. versionadded:: 1.1.0\n",
      "\n"
     ]
    }
   ],
   "source": [
    "# View parameters of the Decision Tree Regressor\n",
    "help(DecisionTree.trainRegressor)"
   ]
  },
  {
   "cell_type": "markdown",
   "metadata": {},
   "source": [
    "## Step 2.1: Train Linear Regressor ## "
   ]
  },
  {
   "cell_type": "code",
   "execution_count": 25,
   "metadata": {
    "collapsed": false
   },
   "outputs": [
    {
     "name": "stderr",
     "output_type": "stream",
     "text": [
      "/Users/adarshnair/spark-2.0.1-bin-hadoop2.7/python/pyspark/mllib/regression.py:281: UserWarning: Deprecated in 2.0.0. Use ml.regression.LinearRegression.\n",
      "  warnings.warn(\"Deprecated in 2.0.0. Use ml.regression.LinearRegression.\")\n"
     ]
    },
    {
     "name": "stdout",
     "output_type": "stream",
     "text": [
      "Linear Model predictions: [(16.0, 117.89250386724845), (40.0, 116.2249612319211), (32.0, 116.02369145779235), (13.0, 115.67088016754433), (1.0, 115.56315650834316)]\n"
     ]
    }
   ],
   "source": [
    "# Train using LinearRegressionWithSGD\n",
    "linear_model = LinearRegressionWithSGD.train(data, \n",
    "                                             iterations=10, \n",
    "                                             step=0.1, \n",
    "                                             intercept=False)\n",
    "\n",
    "# Checking the label vs the predicted value using the features\n",
    "true_vs_predicted = data.map(lambda p: (p.label, linear_model.predict(p.features)))\n",
    "\n",
    "# Compare the values for the first 5 rows\n",
    "print \"Linear Model predictions: \" + str(true_vs_predicted.take(5))"
   ]
  },
  {
   "cell_type": "markdown",
   "metadata": {},
   "source": [
    "## Step 2.2 Train Decision Tree Regressor ##"
   ]
  },
  {
   "cell_type": "code",
   "execution_count": 26,
   "metadata": {
    "collapsed": false
   },
   "outputs": [
    {
     "name": "stdout",
     "output_type": "stream",
     "text": [
      "Decision Tree predictions: [(16.0, 54.913223140495866), (40.0, 54.913223140495866), (32.0, 53.171052631578945), (13.0, 14.284023668639053), (1.0, 14.284023668639053)]\n",
      "Decision Tree depth: 5\n",
      "Decision Tree number of nodes: 63\n"
     ]
    }
   ],
   "source": [
    "# Pass in an empty mapping for categoricalFeaturesInfo - categorical feature size {}\n",
    "dt_model = DecisionTree.trainRegressor(data_dt, {})\n",
    "\n",
    "# Make predictions using the features\n",
    "preds = dt_model.predict(data_dt.map(lambda p: p.features))\n",
    "\n",
    "# Store actual label values for each row\n",
    "actual = data.map(lambda p: p.label)\n",
    "\n",
    "# Zip the actual label values with their predicted values\n",
    "true_vs_predicted_dt = actual.zip(preds)\n",
    "\n",
    "print \"Decision Tree predictions: \" + str(true_vs_predicted_dt.take(5))\n",
    "print \"Decision Tree depth: \" + str(dt_model.depth())\n",
    "print \"Decision Tree number of nodes: \" + str(dt_model.numNodes())"
   ]
  },
  {
   "cell_type": "markdown",
   "metadata": {},
   "source": [
    "# Step 3: Regression performance metrics # \n",
    "\n",
    "The metrics for Regression performance are, among others:\n",
    "\n",
    "* MSE:\n",
    "\n",
    "It is the sum, over all the data points of the square of the difference between the predicted and actual value. It's units are the square of the target variables units. It penalizes large errors more severely.\n",
    "\n",
    "* RMSE\n",
    "\n",
    "Its units are the same as the target variables units.\n",
    "\n",
    "* MAE\n",
    "\n",
    "MAE is the average of the absolute differences between the predicted and actual targets.\n",
    "\n",
    "* RMS Log error\n",
    "\n",
    "This is the RMSE of the log-transformed predicted and target values. RMSLE is usually used when you don't want to penalize huge differences in the predicted and true values when both predicted and true values are huge numbers. For example for P = 1000 and A = 500 would give you the roughly same error as when P = 100000 and A = 50000. We will use this metric to check the efficiency of our model as that is what the Kaggle competition is asking for.\n",
    "\n",
    "* R-squared/Coefficient of determination\n",
    "\n",
    "Measures how well a model fits the data. It measures the degree of variation in the target variable that is explained by the variation in the input features."
   ]
  },
  {
   "cell_type": "code",
   "execution_count": 28,
   "metadata": {
    "collapsed": true
   },
   "outputs": [],
   "source": [
    "'''\n",
    "Performance metrics functions \n",
    "'''\n",
    "\n",
    "def squared_error(actual, pred):\n",
    "    return (pred - actual)**2\n",
    "\n",
    "def abs_error(actual, pred):\n",
    "    return np.abs(pred - actual)\n",
    "\n",
    "def squared_log_error(pred, actual):\n",
    "    return (np.log(pred + 1) - np.log(actual + 1))**2"
   ]
  },
  {
   "cell_type": "markdown",
   "metadata": {},
   "source": [
    "## Step 3.1: Linear Model performance "
   ]
  },
  {
   "cell_type": "code",
   "execution_count": 29,
   "metadata": {
    "collapsed": false
   },
   "outputs": [
    {
     "name": "stdout",
     "output_type": "stream",
     "text": [
      "Linear Model - Mean Squared Error: 30679.4539\n",
      "Linear Model - Mean Absolute Error: 130.6429\n",
      "Linear Model - Root Mean Squared Log Error: 1.4653\n"
     ]
    }
   ],
   "source": [
    "# MSE\n",
    "mse = true_vs_predicted.map(lambda (t, p): squared_error(t, p)).mean()\n",
    "\n",
    "# MAE\n",
    "mae = true_vs_predicted.map(lambda (t, p): abs_error(t, p)).mean()\n",
    "\n",
    "# RMS Log error\n",
    "rmsle = np.sqrt(true_vs_predicted.map(lambda (t, p): squared_log_error(t, p)).mean())\n",
    "\n",
    "print \"Linear Model - Mean Squared Error: %2.4f\" % mse\n",
    "print \"Linear Model - Mean Absolute Error: %2.4f\" % mae\n",
    "print \"Linear Model - Root Mean Squared Log Error: %2.4f\" % rmsle"
   ]
  },
  {
   "cell_type": "markdown",
   "metadata": {},
   "source": [
    "## Step 3.2: Decision Tree regressor performance"
   ]
  },
  {
   "cell_type": "code",
   "execution_count": 30,
   "metadata": {
    "collapsed": false
   },
   "outputs": [
    {
     "name": "stdout",
     "output_type": "stream",
     "text": [
      "Decision Tree - Mean Squared Error: 11611.4860\n",
      "Decision Tree - Mean Absolute Error: 71.1502\n",
      "Decision Tree - Root Mean Squared Log Error: 0.6251\n"
     ]
    }
   ],
   "source": [
    "# MSE\n",
    "mse_dt = true_vs_predicted_dt.map(lambda (t, p): squared_error(t, p)).mean()\n",
    "\n",
    "# MAE\n",
    "mae_dt = true_vs_predicted_dt.map(lambda (t, p): abs_error(t, p)).mean()\n",
    "\n",
    "# RMS Log error\n",
    "rmsle_dt = np.sqrt(true_vs_predicted_dt.map(lambda (t, p): squared_log_error(t, p)).mean())\n",
    "print \"Decision Tree - Mean Squared Error: %2.4f\" % mse_dt\n",
    "print \"Decision Tree - Mean Absolute Error: %2.4f\" % mae_dt\n",
    "print \"Decision Tree - Root Mean Squared Log Error: %2.4f\" % rmsle_dt"
   ]
  },
  {
   "cell_type": "code",
   "execution_count": 31,
   "metadata": {
    "collapsed": false
   },
   "outputs": [
    {
     "name": "stdout",
     "output_type": "stream",
     "text": [
      "Categorical feature size mapping {0: 5, 1: 3, 2: 13, 3: 25, 4: 3, 5: 8, 6: 3, 7: 5}\n",
      "Decision Tree - Mean Squared Error: 7912.5642\n",
      "Decision Tree - Mean Absolute Error: 59.4409\n",
      "Decision Tree - Root Mean Squared Log Error: 0.6192\n"
     ]
    }
   ],
   "source": [
    "'''\n",
    "Training the model using the categorical mapping. Although decision trees do not need the categorical values to be \n",
    "mapped, we will test this and check if the performance improves.\n",
    "'''\n",
    "# Categorical feature mapping for decision trees\n",
    "cat_features = dict([(i - 2, len(get_mapping(records, i)) + 1) for i in range(2,10)])\n",
    "print \"Categorical feature size mapping %s\" % cat_features\n",
    "\n",
    "# Train the model \n",
    "dt_model_2 = DecisionTree.trainRegressor(data_dt, categoricalFeaturesInfo=cat_features)\n",
    "preds_2 = dt_model_2.predict(data_dt.map(lambda p: p.features))\n",
    "actual_2 = data.map(lambda p: p.label)\n",
    "true_vs_predicted_dt_2 = actual_2.zip(preds_2)\n",
    "\n",
    "# Performance metrics for decision tree model\n",
    "mse_dt_2 = true_vs_predicted_dt_2.map(lambda (t, p): squared_error(t, p)).mean()\n",
    "mae_dt_2 = true_vs_predicted_dt_2.map(lambda (t, p): abs_error(t, p)).mean()\n",
    "rmsle_dt_2 = np.sqrt(true_vs_predicted_dt_2.map(lambda (t, p): squared_log_error(t, p)).mean())\n",
    "print \"Decision Tree - Mean Squared Error: %2.4f\" % mse_dt_2\n",
    "print \"Decision Tree - Mean Absolute Error: %2.4f\" % mae_dt_2\n",
    "print \"Decision Tree - Root Mean Squared Log Error: %2.4f\" % rmsle_dt_2"
   ]
  },
  {
   "cell_type": "markdown",
   "metadata": {},
   "source": [
    "As we can see the performance does improve when we apply categorical mapping."
   ]
  },
  {
   "cell_type": "markdown",
   "metadata": {},
   "source": [
    "# Step 4: Tuning parameters #"
   ]
  },
  {
   "cell_type": "markdown",
   "metadata": {},
   "source": [
    "## Step 4.1: Transforming the target variable ##\n",
    "\n",
    "Linear regression assumes a normal distribution of the input data. The number of bike rentals cannot be negative hence the distibution is probably not normal.\n",
    "\n",
    "We will check the distribution of the target variable."
   ]
  },
  {
   "cell_type": "code",
   "execution_count": 36,
   "metadata": {
    "collapsed": false
   },
   "outputs": [
    {
     "data": {
      "text/plain": [
       "<matplotlib.text.Text at 0x10f86a490>"
      ]
     },
     "execution_count": 36,
     "metadata": {},
     "output_type": "execute_result"
    },
    {
     "data": {
      "image/png": "[encoded data removed]",
      "text/plain": [
       "<matplotlib.figure.Figure at 0x10f3cf4d0>"
      ]
     },
     "metadata": {},
     "output_type": "display_data"
    }
   ],
   "source": [
    "'''\n",
    "Distribution of target variable\n",
    "'''\n",
    "# Collect all values of target variable\n",
    "targets = records.map(lambda r: float(r[-1])).collect()\n",
    "\n",
    "# Plotting\n",
    "hist(targets, \n",
    "     bins=40, \n",
    "     color='lightgreen', \n",
    "     normed=True)\n",
    "fig = matplotlib.pyplot.gcf()\n",
    "fig.set_size_inches(16, 10)\n",
    "matplotlib.pyplot.title('DISTRIBUTION OF BIKE RENTALS')\n",
    "matplotlib.pyplot.xlabel('NUMBER OF RENTALS')\n",
    "matplotlib.pyplot.ylabel('')"
   ]
  },
  {
   "cell_type": "code",
   "execution_count": 38,
   "metadata": {
    "collapsed": false
   },
   "outputs": [
    {
     "data": {
      "text/plain": [
       "<matplotlib.text.Text at 0x10ff68290>"
      ]
     },
     "execution_count": 38,
     "metadata": {},
     "output_type": "execute_result"
    },
    {
     "data": {
      "image/png": "[encoded data removed]",
      "text/plain": [
       "<matplotlib.figure.Figure at 0x1100e3250>"
      ]
     },
     "metadata": {},
     "output_type": "display_data"
    }
   ],
   "source": [
    "'''\n",
    "Apply log transformation to target variable get a normal distribution\n",
    "'''\n",
    "# Log of target variable\n",
    "log_targets = records.map(lambda r: np.log(float(r[-1]))).collect()\n",
    "\n",
    "# Plotting\n",
    "hist(log_targets, \n",
    "     bins=40, \n",
    "     color='lightgreen', \n",
    "     normed=True)\n",
    "fig = matplotlib.pyplot.gcf()\n",
    "fig.set_size_inches(16, 10)\n",
    "matplotlib.pyplot.title('LOG DISTRIBUTION OF BIKE RENTALS')\n",
    "matplotlib.pyplot.xlabel('LOG APPLIED TO TOTAL NUMBER OF RENTALS')\n",
    "matplotlib.pyplot.ylabel('')"
   ]
  },
  {
   "cell_type": "code",
   "execution_count": 39,
   "metadata": {
    "collapsed": false
   },
   "outputs": [
    {
     "data": {
      "text/plain": [
       "<matplotlib.text.Text at 0x1106d8910>"
      ]
     },
     "execution_count": 39,
     "metadata": {},
     "output_type": "execute_result"
    },
    {
     "data": {
      "image/png": "[encoded data removed]",
      "text/plain": [
       "<matplotlib.figure.Figure at 0x1106a2090>"
      ]
     },
     "metadata": {},
     "output_type": "display_data"
    }
   ],
   "source": [
    "'''\n",
    "Apply square root transformation to target variable\n",
    "'''\n",
    "# Applying square root transformation\n",
    "sqrt_targets = records.map(lambda r: np.sqrt(float(r[-1]))).collect()\n",
    "\n",
    "# Plotting\n",
    "hist(sqrt_targets, \n",
    "     bins=40, \n",
    "     color='lightgreen', \n",
    "     normed=True)\n",
    "fig = matplotlib.pyplot.gcf()\n",
    "fig.set_size_inches(16, 10)\n",
    "matplotlib.pyplot.title('SQUARE ROOT DISTRIBUTION OF BIKE RENTALS')\n",
    "matplotlib.pyplot.xlabel('SQUARE ROOT APPLIED TO TOTAL NUMBER OF RENTALS')\n",
    "matplotlib.pyplot.ylabel('')"
   ]
  },
  {
   "cell_type": "markdown",
   "metadata": {},
   "source": [
    "## Step 4.2: Training using the log transformed target variable ##\n",
    "\n",
    "### Step 4.2.a: Training the linear regression model ###"
   ]
  },
  {
   "cell_type": "code",
   "execution_count": 40,
   "metadata": {
    "collapsed": true
   },
   "outputs": [],
   "source": [
    "'''\n",
    "Training the model\n",
    "'''\n",
    "# Map log transformed label and the features using LabeledPoint\n",
    "data_log = data.map(lambda lp: LabeledPoint(np.log(lp.label), lp.features))\n",
    "\n",
    "# Train model\n",
    "model_log = LinearRegressionWithSGD.train(data_log, \n",
    "                                          iterations=10, \n",
    "                                          step=0.1)"
   ]
  },
  {
   "cell_type": "code",
   "execution_count": 41,
   "metadata": {
    "collapsed": false
   },
   "outputs": [
    {
     "name": "stdout",
     "output_type": "stream",
     "text": [
      "Mean Squared Error: 50685.5559\n",
      "Mean Absolute Error: 155.2955\n",
      "Root Mean Squared Log Error: 1.5411\n",
      "Non log-transformed predictions:\n",
      "[(16.0, 117.89250386724845), (40.0, 116.2249612319211), (32.0, 116.02369145779235)]\n",
      "Log-transformed predictions:\n",
      "[(15.999999999999998, 28.080291845456223), (40.0, 26.959480191001774), (32.0, 26.654725629458007)]\n"
     ]
    }
   ],
   "source": [
    "'''\n",
    "Checking performance metrics and comparing with Linear regression performance on raw label values.\n",
    "'''\n",
    "\n",
    "# We take the exponent of the actual label and predicted labels to compare performance with original values so that\n",
    "# they are transformed back to their original scale.\n",
    "true_vs_predicted_log = data_log.map(lambda p: (np.exp(p.label), np.exp(model_log.predict(p.features))))\n",
    "\n",
    "# Calculate metrics\n",
    "mse_log = true_vs_predicted_log.map(lambda (t, p): squared_error(t, p)).mean()\n",
    "mae_log = true_vs_predicted_log.map(lambda (t, p): abs_error(t, p)).mean()\n",
    "rmsle_log = np.sqrt(true_vs_predicted_log.map(lambda (t, p): squared_log_error(t, p)).mean())\n",
    "\n",
    "# Printing out the values\n",
    "print \"Mean Squared Error: %2.4f\" % mse_log\n",
    "print \"Mean Absolute Error: %2.4f\" % mae_log\n",
    "print \"Root Mean Squared Log Error: %2.4f\" % rmsle_log\n",
    "\n",
    "# true_vs_predicted taken from step 2.1\n",
    "print \"Non log-transformed predictions:\\n\" + str(true_vs_predicted.take(3))\n",
    "print \"Log-transformed predictions:\\n\" + str(true_vs_predicted_log.take(3))"
   ]
  },
  {
   "cell_type": "markdown",
   "metadata": {},
   "source": [
    "### Step 4.2.b Training the Decision tree model ###"
   ]
  },
  {
   "cell_type": "code",
   "execution_count": 42,
   "metadata": {
    "collapsed": true
   },
   "outputs": [],
   "source": [
    "'''\n",
    "Training the model\n",
    "'''\n",
    "# Log transform the label and wrap the labels and features using LabeledPoint\n",
    "data_dt_log = data_dt.map(lambda lp: LabeledPoint(np.log(lp.label), lp.features))\n",
    "\n",
    "# Train\n",
    "dt_model_log = DecisionTree.trainRegressor(data_dt_log, {})\n",
    "\n",
    "# Make prediction\n",
    "preds_log = dt_model_log.predict(data_dt_log.map(lambda p: p.features))"
   ]
  },
  {
   "cell_type": "code",
   "execution_count": 43,
   "metadata": {
    "collapsed": false
   },
   "outputs": [
    {
     "name": "stdout",
     "output_type": "stream",
     "text": [
      "Mean Squared Error: 14781.5760\n",
      "Mean Absolute Error: 76.4131\n",
      "Root Mean Squared Log Error: 0.6406\n",
      "Non log-transformed predictions:\n",
      "[(16.0, 54.913223140495866), (40.0, 54.913223140495866), (32.0, 53.171052631578945)]\n",
      "Log-transformed predictions:\n",
      "[(15.999999999999998, 37.530779787154508), (40.0, 37.530779787154508), (32.0, 7.2797070993907287)]\n"
     ]
    }
   ],
   "source": [
    "'''\n",
    "Performance metric evaluation\n",
    "'''\n",
    "\n",
    "# Actual log transformed label values\n",
    "actual_log = data_dt_log.map(lambda p: p.label)\n",
    "\n",
    "# Apply np.exp to the log transformed predicted labels and actual labels\n",
    "true_vs_predicted_dt_log = actual_log.zip(preds_log).map(lambda (t, p): (np.exp(t), np.exp(p)))\n",
    "\n",
    "# Calculate metrics\n",
    "mse_log_dt = true_vs_predicted_dt_log.map(lambda (t, p): squared_error(t, p)).mean()\n",
    "mae_log_dt = true_vs_predicted_dt_log.map(lambda (t, p): abs_error(t, p)).mean()\n",
    "rmsle_log_dt = np.sqrt(true_vs_predicted_dt_log.map(lambda (t, p): squared_log_error(t, p)).mean())\n",
    "print \"Mean Squared Error: %2.4f\" % mse_log_dt\n",
    "print \"Mean Absolute Error: %2.4f\" % mae_log_dt\n",
    "print \"Root Mean Squared Log Error: %2.4f\" % rmsle_log_dt\n",
    "\n",
    "# Check prediction comparison\n",
    "print \"Non log-transformed predictions:\\n\" + str(true_vs_predicted_dt.take(3))\n",
    "print \"Log-transformed predictions:\\n\" + str(true_vs_predicted_dt_log.take(3))"
   ]
  },
  {
   "cell_type": "markdown",
   "metadata": {},
   "source": [
    "Taking the log transform worsened the performance of our Decision tree regressor(0.62 to 0.64). This is because the RMS LE penalizes relative error rather than absolute magnitude of errors. "
   ]
  },
  {
   "cell_type": "markdown",
   "metadata": {},
   "source": [
    "# Step 5: Tuning model parameters #"
   ]
  },
  {
   "cell_type": "markdown",
   "metadata": {},
   "source": [
    "## Step 5.1: Creating training and testing split ##\n",
    "\n",
    "Spark's Python API does not have `randomSplit` like scala to split the data and hence we have to do this manually."
   ]
  },
  {
   "cell_type": "code",
   "execution_count": 44,
   "metadata": {
    "collapsed": false
   },
   "outputs": [
    {
     "name": "stdout",
     "output_type": "stream",
     "text": [
      "Training data size: 13934\n",
      "Test data size: 3445\n",
      "Total data size: 17379 \n",
      "Train + Test size : 17379\n"
     ]
    }
   ],
   "source": [
    "'''\n",
    "Create training and testing sets for linear model\n",
    "'''\n",
    "\n",
    "# Create dictionary using zipWithIndex() that creates RDD of (LabeledPoint, index) pairs.\n",
    "# We reverse the (LabeledPoint, index) pair to (index, LabeledPoint) so we can work with the index keys.\n",
    "data_with_idx = data.zipWithIndex().map(lambda (k, v): (v, k))\n",
    "\n",
    "# Test data is 20% of total. sample() takes random sample.\n",
    "test = data_with_idx.sample(False, 0.2, 42)\n",
    "\n",
    "# Training data is the remaining 80% with keys not found in the testing data, done using subtractByKey()\n",
    "train = data_with_idx.subtractByKey(test)\n",
    "\n",
    "# Use map to extract just the value(LabeledPoint) from RDD and not the index.\n",
    "train_data = train.map(lambda (idx, p): p)\n",
    "test_data = test.map(lambda (idx, p) : p)\n",
    "\n",
    "train_size = train_data.count()\n",
    "test_size = test_data.count()\n",
    "print \"Training data size: %d\" % train_size\n",
    "print \"Test data size: %d\" % test_size\n",
    "print \"Total data size: %d \" % num_data\n",
    "print \"Train + Test size : %d\" % (train_size + test_size)"
   ]
  },
  {
   "cell_type": "code",
   "execution_count": 45,
   "metadata": {
    "collapsed": true
   },
   "outputs": [],
   "source": [
    "'''\n",
    "Create training and testing splits for the Decision tree regressor\n",
    "'''\n",
    "# Create dictionary using zipWithIndex() that creates RDD of (LabeledPoint, index) pairs.\n",
    "# We reverse the (LabeledPoint, index) pair to (index, LabeledPoint) so we can work with the index keys.\n",
    "data_with_idx_dt = data_dt.zipWithIndex().map(lambda (k, v): (v, k))\n",
    "\n",
    "# 20% testing data\n",
    "test_dt = data_with_idx_dt.sample(False, 0.2, 42)\n",
    "\n",
    "# 80% training data\n",
    "train_dt = data_with_idx_dt.subtractByKey(test_dt)\n",
    "\n",
    "# Extract just the LabeledPoint data and not the index\n",
    "train_data_dt = train_dt.map(lambda (idx, p): p)\n",
    "test_data_dt = test_dt.map(lambda (idx, p) : p)"
   ]
  },
  {
   "cell_type": "markdown",
   "metadata": {},
   "source": [
    "## Step 5.2: Tune parameters of Linear Regression model  ##"
   ]
  },
  {
   "cell_type": "code",
   "execution_count": 47,
   "metadata": {
    "collapsed": true
   },
   "outputs": [],
   "source": [
    "'''\n",
    "Helper function to iterate through the parameters.\n",
    "\n",
    "We will be tuning:\n",
    "\n",
    "- iterations\n",
    "- step size\n",
    "- regularization(L1 or L2)\n",
    "'''\n",
    "\n",
    "def evaluate(train, test, iterations, step, regParam, regType, intercept):\n",
    "    model = LinearRegressionWithSGD.train(train, \n",
    "                                          iterations, \n",
    "                                          step, \n",
    "                                          regParam = regParam, \n",
    "                                          regType = regType, \n",
    "                                          intercept = intercept)\n",
    "    # Compare actual labels with predicted labels\n",
    "    tp = test.map(lambda p: (p.label, model.predict(p.features)))\n",
    "    # Compute RMS LE error metric as this is the metric the Kaggle competition is judging.\n",
    "    rmsle = np.sqrt(tp.map(lambda (t, p): squared_log_error(t, p)).mean())\n",
    "    return rmsle"
   ]
  },
  {
   "cell_type": "markdown",
   "metadata": {},
   "source": [
    "### Iterations ###\n",
    "\n",
    "SGD performance tends to increase with increase in number of iterations. But only up to a certain point after which it can overshoot the optimal solution."
   ]
  },
  {
   "cell_type": "code",
   "execution_count": 49,
   "metadata": {
    "collapsed": false
   },
   "outputs": [
    {
     "name": "stdout",
     "output_type": "stream",
     "text": [
      "[1, 5, 10, 20, 50, 100]\n",
      "[2.8779465130028199, 2.0390187660391499, 1.7761565324837874, 1.5828778102209105, 1.4382263191764473, 1.4050638054019446]\n"
     ]
    },
    {
     "data": {
      "text/plain": [
       "<matplotlib.text.Text at 0x111578c90>"
      ]
     },
     "execution_count": 49,
     "metadata": {},
     "output_type": "execute_result"
    },
    {
     "data": {
      "image/png": "[encoded data removed]",
      "text/plain": [
       "<matplotlib.figure.Figure at 0x1112a3e90>"
      ]
     },
     "metadata": {},
     "output_type": "display_data"
    }
   ],
   "source": [
    "'''\n",
    "Check for 1, 5, 10, 20, 50, 100 iterations using 0.01 step size.\n",
    "'''\n",
    "params = [1, 5, 10, 20, 50, 100]\n",
    "\n",
    "# Use helper function\n",
    "metrics = [evaluate(train_data, \n",
    "                    test_data, \n",
    "                    param, \n",
    "                    0.01, \n",
    "                    0.0, \n",
    "                    'l2', \n",
    "                    False) for param in params]\n",
    "print params\n",
    "print metrics\n",
    "\n",
    "# Plotting\n",
    "plot(params, metrics)\n",
    "fig = matplotlib.pyplot.gcf()\n",
    "pyplot.xscale('log')\n",
    "matplotlib.pyplot.title('Checking performance over different iteration values')\n",
    "matplotlib.pyplot.xlabel('Number of iterations')\n",
    "matplotlib.pyplot.ylabel('Root Mean Squared Log Error')"
   ]
  },
  {
   "cell_type": "markdown",
   "metadata": {},
   "source": [
    "Lowest error comes at 100 iterations."
   ]
  },
  {
   "cell_type": "markdown",
   "metadata": {},
   "source": [
    "### Step size ### "
   ]
  },
  {
   "cell_type": "code",
   "execution_count": 50,
   "metadata": {
    "collapsed": false
   },
   "outputs": [
    {
     "name": "stdout",
     "output_type": "stream",
     "text": [
      "[0.01, 0.025, 0.05, 0.1, 1.0]\n",
      "[1.7761565324837874, 1.4379348243997032, 1.4189071944747718, 1.5027293911925557, nan]\n"
     ]
    },
    {
     "data": {
      "text/plain": [
       "<matplotlib.text.Text at 0x111ba73d0>"
      ]
     },
     "execution_count": 50,
     "metadata": {},
     "output_type": "execute_result"
    },
    {
     "data": {
      "image/png": "[encoded data removed]",
      "text/plain": [
       "<matplotlib.figure.Figure at 0x1115216d0>"
      ]
     },
     "metadata": {},
     "output_type": "display_data"
    }
   ],
   "source": [
    "'''\n",
    "Step size values - 0.01, 0.025, 0.05, 0.1, 1.0\n",
    "'''\n",
    "params = [0.01, 0.025, 0.05, 0.1, 1.0]\n",
    "metrics = [evaluate(train_data, \n",
    "                    test_data, \n",
    "                    10, \n",
    "                    param, \n",
    "                    0.0, \n",
    "                    'l2', \n",
    "                    False) for param in params]\n",
    "print params\n",
    "print metrics\n",
    "plot(params, metrics)\n",
    "fig = matplotlib.pyplot.gcf()\n",
    "pyplot.xscale('log')\n",
    "matplotlib.pyplot.title('Checking performance over different step sizes')\n",
    "matplotlib.pyplot.xlabel('Step size')\n",
    "matplotlib.pyplot.ylabel('Root Mean Squared Log Error')"
   ]
  },
  {
   "cell_type": "markdown",
   "metadata": {},
   "source": [
    "Lowest error comes at step size 0.05"
   ]
  },
  {
   "cell_type": "markdown",
   "metadata": {},
   "source": [
    "General rules for step size and number of iterations:\n",
    "* Low step size and high number of iterations usually gives the best result.\n",
    "* The lower the step size, the longer it takes for the model to converge thereby needing more iterations."
   ]
  },
  {
   "cell_type": "markdown",
   "metadata": {},
   "source": [
    "### Regularization ###"
   ]
  },
  {
   "cell_type": "code",
   "execution_count": 51,
   "metadata": {
    "collapsed": false
   },
   "outputs": [
    {
     "name": "stdout",
     "output_type": "stream",
     "text": [
      "[0.0, 0.01, 0.1, 1.0, 5.0, 10.0, 20.0]\n",
      "[1.5027293911925559, 1.5020646031965639, 1.4961903335175231, 1.4479313176192781, 1.4113329999970989, 1.5379824584440469, 1.8279564444985839]\n"
     ]
    },
    {
     "data": {
      "text/plain": [
       "<matplotlib.text.Text at 0x11151c850>"
      ]
     },
     "execution_count": 51,
     "metadata": {},
     "output_type": "execute_result"
    },
    {
     "data": {
      "image/png": "[encoded data removed]",
      "text/plain": [
       "<matplotlib.figure.Figure at 0x111d2e350>"
      ]
     },
     "metadata": {},
     "output_type": "display_data"
    }
   ],
   "source": [
    "'''\n",
    "Using different levels of L2 regularization\n",
    "'''\n",
    "params = [0.0, 0.01, 0.1, 1.0, 5.0, 10.0, 20.0]\n",
    "metrics = [evaluate(train_data, \n",
    "                    test_data, \n",
    "                    10, \n",
    "                    0.1, \n",
    "                    param, \n",
    "                    'l2', \n",
    "                    False) for param in params]\n",
    "print params\n",
    "print metrics\n",
    "plot(params, metrics)\n",
    "fig = matplotlib.pyplot.gcf()\n",
    "pyplot.xscale('log')\n",
    "matplotlib.pyplot.title('Checking performance over levels of L2 regularization')\n",
    "matplotlib.pyplot.xlabel('L2 level')\n",
    "matplotlib.pyplot.ylabel('Root Mean Squared Log Error')"
   ]
  },
  {
   "cell_type": "code",
   "execution_count": 52,
   "metadata": {
    "collapsed": false
   },
   "outputs": [
    {
     "name": "stdout",
     "output_type": "stream",
     "text": [
      "[0.0, 0.01, 0.1, 1.0, 10.0, 100.0, 1000.0]\n",
      "[1.5027293911925559, 1.5026938950690176, 1.5023761634555699, 1.499412856617814, 1.4713669769550108, 1.7596682962964316, 4.7551250073268614]\n"
     ]
    },
    {
     "data": {
      "text/plain": [
       "<matplotlib.text.Text at 0x111d890d0>"
      ]
     },
     "execution_count": 52,
     "metadata": {},
     "output_type": "execute_result"
    },
    {
     "data": {
      "image/png": "[encoded data removed]",
      "text/plain": [
       "<matplotlib.figure.Figure at 0x111d47a50>"
      ]
     },
     "metadata": {},
     "output_type": "display_data"
    }
   ],
   "source": [
    "'''\n",
    "Using different levels of L1 regularization\n",
    "'''\n",
    "params = [0.0, 0.01, 0.1, 1.0, 10.0, 100.0, 1000.0]\n",
    "metrics = [evaluate(train_data, \n",
    "                    test_data, \n",
    "                    10, \n",
    "                    0.1, \n",
    "                    param, \n",
    "                    'l1', \n",
    "                    False) for param in params]\n",
    "print params\n",
    "print metrics\n",
    "plot(params, metrics)\n",
    "fig = matplotlib.pyplot.gcf()\n",
    "pyplot.xscale('log')\n",
    "matplotlib.pyplot.title('Checking performance over levels of L1 regularization')\n",
    "matplotlib.pyplot.xlabel('L1 level')\n",
    "matplotlib.pyplot.ylabel('Root Mean Squared Log Error')"
   ]
  },
  {
   "cell_type": "code",
   "execution_count": 55,
   "metadata": {
    "collapsed": false
   },
   "outputs": [
    {
     "name": "stdout",
     "output_type": "stream",
     "text": [
      "L1 (1.0) number of zero weights: 4\n",
      "L1 (10.0) number of zeros weights: 33\n",
      "L1 (100.0) number of zeros weights: 58\n"
     ]
    }
   ],
   "source": [
    "'''\n",
    "L1 regularization encourages sparse weight vectors. Looking into the number of zero vector weights at the different\n",
    "levels of L1 regularization\n",
    "'''\n",
    "\n",
    "model_l1 = LinearRegressionWithSGD.train(train_data, \n",
    "                                         10, \n",
    "                                         0.1, \n",
    "                                         regParam=1.0, \n",
    "                                         regType='l1', \n",
    "                                         intercept=False)\n",
    "model_l1_10 = LinearRegressionWithSGD.train(train_data, \n",
    "                                            10, \n",
    "                                            0.1, \n",
    "                                            regParam=10.0, \n",
    "                                            regType='l1', \n",
    "                                            intercept=False)\n",
    "model_l1_100 = LinearRegressionWithSGD.train(train_data, \n",
    "                                             10, \n",
    "                                             0.1, \n",
    "                                             regParam=100.0, \n",
    "                                             regType='l1', \n",
    "                                             intercept=False)\n",
    "\n",
    "print \"L1 (1.0) number of zero weights: \" + str(sum(model_l1.weights.array == 0))\n",
    "print \"L1 (10.0) number of zeros weights: \" + str(sum(model_l1_10.weights.array == 0))\n",
    "print \"L1 (100.0) number of zeros weights: \" + str(sum(model_l1_100.weights.array == 0))"
   ]
  },
  {
   "cell_type": "markdown",
   "metadata": {},
   "source": [
    "Number of sparse vector weights increases at higher levels of L1 regularization."
   ]
  },
  {
   "cell_type": "markdown",
   "metadata": {},
   "source": [
    "### Intercept ###\n",
    "\n",
    "The intercept is a constant value that accounts for the mean value of the target variable. If the data is already centered or normalized, an intercept is not necessary."
   ]
  },
  {
   "cell_type": "code",
   "execution_count": 56,
   "metadata": {
    "collapsed": false
   },
   "outputs": [
    {
     "name": "stdout",
     "output_type": "stream",
     "text": [
      "[False, True]\n",
      "[1.4479313176192781, 1.4798261513419801]\n"
     ]
    },
    {
     "data": {
      "text/plain": [
       "<matplotlib.text.Text at 0x111504e50>"
      ]
     },
     "execution_count": 56,
     "metadata": {},
     "output_type": "execute_result"
    },
    {
     "data": {
      "image/png": "[encoded data removed]",
      "text/plain": [
       "<matplotlib.figure.Figure at 0x111492150>"
      ]
     },
     "metadata": {},
     "output_type": "display_data"
    }
   ],
   "source": [
    "'''\n",
    "Intercept values to be set or not using boolean\n",
    "'''\n",
    "params = [False, True]\n",
    "metrics = [evaluate(train_data, \n",
    "                    test_data, \n",
    "                    10, 0.1, 1.0, 'l2', param) for param in params]\n",
    "print params\n",
    "print metrics\n",
    "bar(params, metrics, color='lightgreen')\n",
    "fig = matplotlib.pyplot.gcf()\n",
    "matplotlib.pyplot.title('Checking performance over presence of intercept or not')\n",
    "matplotlib.pyplot.xlabel('Intercept presence')\n",
    "matplotlib.pyplot.ylabel('Root Mean Squared Log Error')"
   ]
  },
  {
   "cell_type": "markdown",
   "metadata": {},
   "source": [
    "Adding an intercept raises the RMS LE in our case."
   ]
  },
  {
   "cell_type": "markdown",
   "metadata": {},
   "source": [
    "## Step 5.3: Tuning the parameters of the Decision Tree model ##\n",
    "\n",
    "We will tuning two parameters:\n",
    "\n",
    "* Maximum tree depth\n",
    "* Maximum number of bins"
   ]
  },
  {
   "cell_type": "code",
   "execution_count": 57,
   "metadata": {
    "collapsed": true
   },
   "outputs": [],
   "source": [
    "'''\n",
    "Helper function to iterate over parameters\n",
    "'''\n",
    "\n",
    "# create a function to evaluate decision tree model\n",
    "def evaluate_dt(train, test, maxDepth, maxBins):\n",
    "    model = DecisionTree.trainRegressor(train, \n",
    "                                        {}, \n",
    "                                        impurity='variance', \n",
    "                                        maxDepth=maxDepth, \n",
    "                                        maxBins=maxBins)\n",
    "    # Make predictions on the test set\n",
    "    preds = model.predict(test.map(lambda p: p.features))\n",
    "    # Get actual labels and store in 'actual'\n",
    "    actual = test.map(lambda p: p.label)\n",
    "    # Zip predicted labels with actual labels\n",
    "    tp = actual.zip(preds)\n",
    "    # RMS LE error metric\n",
    "    rmsle = np.sqrt(tp.map(lambda (t, p): squared_log_error(t, p)).mean())\n",
    "    return rmsle"
   ]
  },
  {
   "cell_type": "markdown",
   "metadata": {},
   "source": [
    "### Maximum Tree Depth ###"
   ]
  },
  {
   "cell_type": "code",
   "execution_count": 59,
   "metadata": {
    "collapsed": false
   },
   "outputs": [
    {
     "name": "stdout",
     "output_type": "stream",
     "text": [
      "[1, 2, 3, 4, 5, 10, 20]\n",
      "[1.0280339660196287, 0.92686672078778276, 0.81807794023407532, 0.74060228537329209, 0.63583503599563096, 0.42630675767342086, 0.45134681265967197]\n"
     ]
    },
    {
     "data": {
      "text/plain": [
       "<matplotlib.text.Text at 0x11218cfd0>"
      ]
     },
     "execution_count": 59,
     "metadata": {},
     "output_type": "execute_result"
    },
    {
     "data": {
      "image/png": "[encoded data removed]",
      "text/plain": [
       "<matplotlib.figure.Figure at 0x1121c7990>"
      ]
     },
     "metadata": {},
     "output_type": "display_data"
    }
   ],
   "source": [
    "'''\n",
    "Iterate over Tree depths keeping the bin value at default 32\n",
    "'''\n",
    "params = [1, 2, 3, 4, 5, 10, 20]\n",
    "metrics = [evaluate_dt(train_data_dt, \n",
    "                       test_data_dt, \n",
    "                       param, \n",
    "                       32) for param in params]\n",
    "print params\n",
    "print metrics\n",
    "plot(params, metrics)\n",
    "fig = matplotlib.pyplot.gcf()\n",
    "matplotlib.pyplot.title('Checking performance at different tree depths')\n",
    "matplotlib.pyplot.xlabel('Tree depth')\n",
    "matplotlib.pyplot.ylabel('Root Mean Squared Log Error')"
   ]
  },
  {
   "cell_type": "markdown",
   "metadata": {},
   "source": [
    "Model overfits at depths greater than 10"
   ]
  },
  {
   "cell_type": "markdown",
   "metadata": {},
   "source": [
    "### Number of bins ###"
   ]
  },
  {
   "cell_type": "code",
   "execution_count": 60,
   "metadata": {
    "collapsed": false
   },
   "outputs": [
    {
     "name": "stdout",
     "output_type": "stream",
     "text": [
      "[2, 4, 8, 16, 32, 64, 100]\n",
      "[1.3069788763726049, 0.81721457107308615, 0.75745322513058744, 0.65509498325812077, 0.63583503599563096, 0.63583503599563096, 0.63583503599563096]\n"
     ]
    },
    {
     "data": {
      "text/plain": [
       "<matplotlib.text.Text at 0x1124535d0>"
      ]
     },
     "execution_count": 60,
     "metadata": {},
     "output_type": "execute_result"
    },
    {
     "data": {
      "image/png": "[encoded data removed]",
      "text/plain": [
       "<matplotlib.figure.Figure at 0x112185350>"
      ]
     },
     "metadata": {},
     "output_type": "display_data"
    }
   ],
   "source": [
    "'''\n",
    "Iterate over maximum number of bins\n",
    "'''\n",
    "params = [2, 4, 8, 16, 32, 64, 100]\n",
    "metrics = [evaluate_dt(train_data_dt, \n",
    "                       test_data_dt, \n",
    "                       5, \n",
    "                       param) for param in params]\n",
    "print params\n",
    "print metrics\n",
    "plot(params, metrics)\n",
    "fig = matplotlib.pyplot.gcf()\n",
    "matplotlib.pyplot.title('Checking performance at different bins')\n",
    "matplotlib.pyplot.xlabel('Tree depth')\n",
    "matplotlib.pyplot.ylabel('Root Mean Squared Log Error')"
   ]
  },
  {
   "cell_type": "markdown",
   "metadata": {},
   "source": [
    "The more the number of bins the more complex the model. Our best performance is at ~16 bins while keeping complexity \n",
    "in check."
   ]
  },
  {
   "cell_type": "markdown",
   "metadata": {},
   "source": [
    "# Step 6: Conclusion #\n",
    "\n",
    "We have designed a model that can predict the use of the bike sharing system with good efficiency using the Decision Tree regressor model"
   ]
  },
  {
   "cell_type": "code",
   "execution_count": null,
   "metadata": {
    "collapsed": true
   },
   "outputs": [],
   "source": []
  }
 ],
 "metadata": {
  "kernelspec": {
   "display_name": "Python 2",
   "language": "python",
   "name": "python2"
  },
  "language_info": {
   "codemirror_mode": {
    "name": "ipython",
    "version": 2
   },
   "file_extension": ".py",
   "mimetype": "text/x-python",
   "name": "python",
   "nbconvert_exporter": "python",
   "pygments_lexer": "ipython2",
   "version": "2.7.12"
  }
 },
 "nbformat": 4,
 "nbformat_minor": 0
}

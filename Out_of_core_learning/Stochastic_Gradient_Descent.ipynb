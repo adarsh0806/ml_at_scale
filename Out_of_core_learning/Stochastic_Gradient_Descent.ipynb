{
 "cells": [
  {
   "cell_type": "markdown",
   "metadata": {},
   "source": [
    "# Step 1: Read in the data in a streaming line by line fashion #"
   ]
  },
  {
   "cell_type": "code",
   "execution_count": 1,
   "metadata": {
    "collapsed": true
   },
   "outputs": [],
   "source": [
    "import urllib2 # import urllib.request as urllib2 in Python3\n",
    "import requests, io, os, StringIO\n",
    "import numpy as np\n",
    "import tarfile, zipfile, gzip\n",
    "\n",
    "def unzip_from_UCI(UCI_url, dest=''):\n",
    "    \"\"\"\n",
    "    Downloads and unpacks datasets from UCI in zip format\n",
    "    \"\"\"\n",
    "    response = requests.get(UCI_url)\n",
    "    compressed_file = io.BytesIO(response.content)\n",
    "    z = zipfile.ZipFile(compressed_file)\n",
    "    print ('Extracting in %s' %  os.getcwd()+'\\\\'+dest)\n",
    "    for name in z.namelist():\n",
    "        if '.csv' in name:\n",
    "            print ('\\tunzipping %s' %name)\n",
    "            z.extract(name, path=os.getcwd()+'\\\\'+dest)\n",
    "\n",
    "def gzip_from_UCI(UCI_url, dest=''):\n",
    "    \"\"\"\n",
    "    Downloads and unpacks datasets from UCI in gzip format\n",
    "    \"\"\"\n",
    "    response = urllib2.urlopen(UCI_url)\n",
    "    compressed_file = io.BytesIO(response.read())\n",
    "    decompressed_file = gzip.GzipFile(fileobj=compressed_file)\n",
    "    filename = UCI_url.split('/')[-1][:-3]\n",
    "    with open(os.getcwd()+'\\\\'+filename, 'wb') as outfile:\n",
    "        outfile.write(decompressed_file.read())\n",
    "    print ('File %s decompressed' % filename)\n",
    "            \n",
    "def targzip_from_UCI(UCI_url, dest='.'):\n",
    "    \"\"\"\n",
    "    Downloads and unpacks datasets from UCI in tar.gz format\n",
    "    \"\"\"\n",
    "    response = urllib2.urlopen(UCI_url)\n",
    "    compressed_file = StringIO.StringIO(response.read())\n",
    "    tar = tarfile.open(mode=\"r:gz\", fileobj = compressed_file)\n",
    "    tar.extractall(path=dest)\n",
    "    datasets = tar.getnames()\n",
    "    for dataset in datasets:\n",
    "        size = os.path.getsize(dest+'\\\\'+dataset)\n",
    "        print ('File %s is %i bytes' % (dataset,size))\n",
    "    tar.close()\n",
    "\n",
    "def load_matrix(UCI_url):\n",
    "    \"\"\"\n",
    "    Downloads datasets from UCI in matrix form\n",
    "    \"\"\"\n",
    "    return np.loadtxt(urllib2.urlopen(UCI_url))"
   ]
  },
  {
   "cell_type": "code",
   "execution_count": 2,
   "metadata": {
    "collapsed": false
   },
   "outputs": [
    {
     "name": "stdout",
     "output_type": "stream",
     "text": [
      "Extracting in /Users/adarshnair/Desktop/PyML_at_scale/Out_of_core_learning\\bikesharing\n",
      "\tunzipping day.csv\n",
      "\tunzipping hour.csv\n"
     ]
    }
   ],
   "source": [
    "# Insert URL to download from\n",
    "UCI_url = 'https://archive.ics.uci.edu/ml/machine-learning-databases/00275/Bike-Sharing-Dataset.zip'\n",
    "unzip_from_UCI(UCI_url, dest='bikesharing')"
   ]
  },
  {
   "cell_type": "markdown",
   "metadata": {},
   "source": [
    "## Step 1.1: Streaming using csv.reader ##"
   ]
  },
  {
   "cell_type": "code",
   "execution_count": 6,
   "metadata": {
    "collapsed": false
   },
   "outputs": [
    {
     "name": "stdout",
     "output_type": "stream",
     "text": [
      "Total rows: 17380\n",
      "Header: instant, dteday, season, yr, mnth, hr, holiday, weekday, workingday, weathersit, temp, atemp, hum, windspeed, casual, registered, cnt\n"
     ]
    }
   ],
   "source": [
    "# \n",
    "import os, csv\n",
    "local_path = os.getcwd()\n",
    "source = 'bikesharing/hour.csv'\n",
    "SEP = ',' # We define this for being able to easily change it as required by the file\n",
    "\n",
    "with open(local_path + '/' + source, 'rb') as R:\n",
    "    iterator = csv.reader(R, delimiter=SEP)\n",
    "    for n, row in enumerate(iterator):\n",
    "        if n == 0:\n",
    "            header = row\n",
    "        else:\n",
    "            # DATA PROCESSING placeholder\n",
    "            # MACHINE LEARNING placeholder\n",
    "            pass\n",
    "    print ('Total rows: %i' % (n + 1))\n",
    "    print ('Header: %s' % ', '.join(header))"
   ]
  },
  {
   "cell_type": "markdown",
   "metadata": {},
   "source": [
    "## Step 1.2: Streaming using pandas ##"
   ]
  },
  {
   "cell_type": "code",
   "execution_count": 7,
   "metadata": {
    "collapsed": false
   },
   "outputs": [
    {
     "name": "stdout",
     "output_type": "stream",
     "text": [
      "Size of uploaded chunk: 1000 instances, 17 features\n",
      "Size of uploaded chunk: 1000 instances, 17 features\n",
      "Size of uploaded chunk: 1000 instances, 17 features\n",
      "Size of uploaded chunk: 1000 instances, 17 features\n",
      "Size of uploaded chunk: 1000 instances, 17 features\n",
      "Size of uploaded chunk: 1000 instances, 17 features\n",
      "Size of uploaded chunk: 1000 instances, 17 features\n",
      "Size of uploaded chunk: 1000 instances, 17 features\n",
      "Size of uploaded chunk: 1000 instances, 17 features\n",
      "Size of uploaded chunk: 1000 instances, 17 features\n",
      "Size of uploaded chunk: 1000 instances, 17 features\n",
      "Size of uploaded chunk: 1000 instances, 17 features\n",
      "Size of uploaded chunk: 1000 instances, 17 features\n",
      "Size of uploaded chunk: 1000 instances, 17 features\n",
      "Size of uploaded chunk: 1000 instances, 17 features\n",
      "Size of uploaded chunk: 1000 instances, 17 features\n",
      "Size of uploaded chunk: 1000 instances, 17 features\n",
      "Size of uploaded chunk: 379 instances, 17 features\n",
      "Sample values: \n",
      "instant            17001\n",
      "dteday        2012-12-16\n",
      "season                 4\n",
      "yr                     1\n",
      "mnth                  12\n",
      "hr                     3\n",
      "holiday                0\n",
      "weekday                0\n",
      "workingday             0\n",
      "weathersit             2\n",
      "temp                0.34\n",
      "atemp             0.3333\n",
      "hum                 0.87\n",
      "windspeed          0.194\n",
      "casual                 1\n",
      "registered            37\n",
      "cnt                   38\n",
      "Name: 0, dtype: object\n"
     ]
    }
   ],
   "source": [
    "import pandas as pd\n",
    "# Declare chunk size for each iterations fetch\n",
    "CHUNK_SIZE = 1000\n",
    "source = 'bikesharing/hour.csv'\n",
    "\n",
    "with open(local_path + '/' + source, 'rb') as R:\n",
    "    iterator = pd.read_csv(R, chunksize=CHUNK_SIZE) \n",
    "    for n, data_chunk in enumerate(iterator):\n",
    "        print ('Size of uploaded chunk: %i instances, %i features' % (data_chunk.shape))\n",
    "        # DATA PROCESSING placeholder\n",
    "        # MACHINE LEARNING placeholder\n",
    "        pass\n",
    "    print ('Sample values: \\n%s' % str(data_chunk.iloc[0]))"
   ]
  },
  {
   "cell_type": "markdown",
   "metadata": {},
   "source": [
    "## Step 1.3 Streaming using sqlite3 ##"
   ]
  },
  {
   "cell_type": "code",
   "execution_count": 8,
   "metadata": {
    "collapsed": true
   },
   "outputs": [],
   "source": [
    "import os, sys\n",
    "import sqlite3, csv,glob\n",
    "\n",
    "SEP = ','\n",
    "\n",
    "def define_field(s):\n",
    "    try:\n",
    "        int(s)\n",
    "        return 'integer'\n",
    "    except ValueError:\n",
    "        try:\n",
    "            float(s)\n",
    "            return 'real'\n",
    "        except:\n",
    "            return 'text'\n",
    "\n",
    "def create_sqlite_db(db='database.sqlite', file_pattern=''):\n",
    "    conn = sqlite3.connect(db)\n",
    "    conn.text_factory = str  # allows utf-8 data to be stored\n",
    "\n",
    "    c = conn.cursor()\n",
    "\n",
    "    # traverse the directory and process each .csv file useful for building the db\n",
    "    target_files = glob.glob(file_pattern) \n",
    "\n",
    "    print ('Creating %i table(s) into %s from file(s): %s' % (len(target_files), db, ', '.join(target_files)))\n",
    "\n",
    "    for k,csvfile in enumerate(target_files):\n",
    "        # remove the path and extension and use what's left as a table name\n",
    "        tablename = os.path.splitext(os.path.basename(csvfile))[0]\n",
    "\n",
    "        with open(csvfile, \"rb\") as f:\n",
    "            reader = csv.reader(f, delimiter=SEP)\n",
    "\n",
    "            f.seek(0)\n",
    "            for n,row in enumerate(reader):\n",
    "                if n==11:\n",
    "                    types = map(define_field,row)\n",
    "                else:\n",
    "                    if n>11:\n",
    "                        break      \n",
    "\n",
    "            f.seek(0)\n",
    "            for n,row in enumerate(reader):\n",
    "                if n==0:\n",
    "\n",
    "                    sql = \"DROP TABLE IF EXISTS %s\" % tablename\n",
    "                    c.execute(sql)\n",
    "                    sql = \"CREATE TABLE %s (%s)\" % (tablename,\n",
    "                              \", \".join([ \"%s %s\" % (col, ct) for col, ct  in zip(row, types)]))\n",
    "                    print ('%i) %s' % (k+1,sql))\n",
    "                    c.execute(sql)\n",
    "\n",
    "                    # Creating indexes for faster joins on long strings\n",
    "                    for column in row:\n",
    "                        if column.endswith(\"_ID_hash\"):\n",
    "                            index = \"%s__%s\" % ( tablename, column )\n",
    "                            sql = \"CREATE INDEX %s on %s (%s)\" % ( index, tablename, column )\n",
    "                            c.execute(sql) \n",
    "\n",
    "                    insertsql = \"INSERT INTO %s VALUES (%s)\" % (tablename,\n",
    "                                \", \".join([ \"?\" for column in row ]))\n",
    "\n",
    "                    rowlen = len(row)\n",
    "                else:\n",
    "                    # raise an error if there are rows that don't have the right number of fields\n",
    "                    if len(row) == rowlen:\n",
    "                        c.execute(insertsql, row)\n",
    "                    else:\n",
    "                        print ('Error at line %i in file %s') % (n,csvfile)\n",
    "                        raise ValueError('Houston, we\\'ve had a problem at row %i' % n)\n",
    "\n",
    "            conn.commit()\n",
    "            print ('* Inserted %i rows' % n)\n",
    "\n",
    "    c.close()\n",
    "    conn.close()"
   ]
  },
  {
   "cell_type": "code",
   "execution_count": 9,
   "metadata": {
    "collapsed": false
   },
   "outputs": [
    {
     "name": "stdout",
     "output_type": "stream",
     "text": [
      "Creating 2 table(s) into bikesharing.sqlite from file(s): bikesharing/day.csv, bikesharing/hour.csv\n",
      "1) CREATE TABLE day (instant integer, dteday text, season integer, yr integer, mnth integer, holiday integer, weekday integer, workingday integer, weathersit integer, temp real, atemp real, hum real, windspeed real, casual integer, registered integer, cnt integer)\n",
      "* Inserted 731 rows\n",
      "2) CREATE TABLE hour (instant integer, dteday text, season integer, yr integer, mnth integer, hr integer, holiday integer, weekday integer, workingday integer, weathersit integer, temp real, atemp real, hum real, windspeed real, casual integer, registered integer, cnt integer)\n",
      "* Inserted 17379 rows\n"
     ]
    }
   ],
   "source": [
    "# Create the database\n",
    "create_sqlite_db(db = 'bikesharing.sqlite', file_pattern='bikesharing/*.csv')"
   ]
  },
  {
   "cell_type": "code",
   "execution_count": 10,
   "metadata": {
    "collapsed": false
   },
   "outputs": [
    {
     "name": "stdout",
     "output_type": "stream",
     "text": [
      "Chunk 1 - Size of uploaded chunk: 2500 istances, 18 features\n",
      "Chunk 2 - Size of uploaded chunk: 2500 istances, 18 features\n",
      "Chunk 3 - Size of uploaded chunk: 2500 istances, 18 features\n",
      "Chunk 4 - Size of uploaded chunk: 2500 istances, 18 features\n",
      "Chunk 5 - Size of uploaded chunk: 2500 istances, 18 features\n",
      "Chunk 6 - Size of uploaded chunk: 2500 istances, 18 features\n",
      "Chunk 7 - Size of uploaded chunk: 2379 istances, 18 features\n"
     ]
    }
   ],
   "source": [
    "# Inner join day and hour tables ON dteday to extract data on an hourly base with information about rentals per day\n",
    "import os, sqlite3\n",
    "import pandas as pd\n",
    "\n",
    "DB_NAME = 'bikesharing.sqlite'\n",
    "DIR_PATH = os.getcwd()\n",
    "CHUNK_SIZE = 2500\n",
    "\n",
    "conn = sqlite3.connect(DIR_PATH + '/' + DB_NAME)\n",
    "conn.text_factory = str  # allows utf-8 data to be stored  \n",
    "\n",
    "# SQL query\n",
    "sql = \"SELECT H.*, D.cnt AS day_cnt FROM hour AS H INNER JOIN day as D ON (H.dteday = D.dteday)\"\n",
    "\n",
    "# Stream data using 2500 size chunks\n",
    "DB_stream = pd.io.sql.read_sql(sql, \n",
    "                               conn, \n",
    "                               chunksize = CHUNK_SIZE)\n",
    "\n",
    "for j,data_chunk in enumerate(DB_stream):\n",
    "    print ('Chunk %i -' % (j+1)),\n",
    "    print ('Size of uploaded chunk: %i istances, %i features' % (data_chunk.shape))\n",
    "    # DATA PROCESSING placeholder\n",
    "    # MACHINE LEARNING placeholder"
   ]
  },
  {
   "cell_type": "markdown",
   "metadata": {},
   "source": [
    "# Step 2: Shuffling the data to negate bias #"
   ]
  },
  {
   "cell_type": "markdown",
   "metadata": {},
   "source": [
    "## Step 2.1: Shuffling in-memory ##"
   ]
  },
  {
   "cell_type": "code",
   "execution_count": 11,
   "metadata": {
    "collapsed": true
   },
   "outputs": [],
   "source": [
    "import zlib\n",
    "from random import shuffle\n",
    "\n",
    "# Will work iff RAM can hold the compressed data\n",
    "def ram_shuffle(filename_in, filename_out, header=True):\n",
    "    # Read the file\n",
    "    with open(filename_in, 'rb') as f:\n",
    "        zlines = [zlib.compress(line, 9) for line in f]\n",
    "        if header:\n",
    "            first_row = zlines.pop(0)\n",
    "    \n",
    "    shuffle(zlines)\n",
    "    \n",
    "    # Write the file\n",
    "    with open(filename_out, 'wb') as f:\n",
    "        if header:\n",
    "            f.write(zlib.decompress(first_row))\n",
    "        for zline in zlines:\n",
    "            f.write(zlib.decompress(zline))\n",
    "\n",
    "import os\n",
    "\n",
    "local_path = os.getcwd()\n",
    "source = 'bikesharing/hour.csv'\n",
    "ram_shuffle(filename_in = local_path + '/' + source, \\\n",
    "                   filename_out = local_path + '/bikesharing/shuffled_hour.csv', header=True)"
   ]
  },
  {
   "cell_type": "markdown",
   "metadata": {},
   "source": [
    "## Step 2.2: Shuffling in-disk ##"
   ]
  },
  {
   "cell_type": "code",
   "execution_count": 12,
   "metadata": {
    "collapsed": true
   },
   "outputs": [],
   "source": [
    "from random import shuffle\n",
    "import pandas as pd\n",
    "import numpy as np\n",
    "import os\n",
    "\n",
    "# If RAM cannot hold compressed data, we perform the shuffle on disk.\n",
    "def disk_shuffle(filename_in, filename_out, header=True, iterations = 3, CHUNK_SIZE = 2500, SEP=','):\n",
    "    for i in range(iterations):\n",
    "        # Read the data\n",
    "        with open(filename_in, 'rb') as R:\n",
    "            iterator = pd.read_csv(R, chunksize=CHUNK_SIZE) \n",
    "            for n, df in enumerate(iterator):\n",
    "                if n == 0 and header:\n",
    "                    header_cols =SEP.join(df.columns)+'\\n'\n",
    "                df.iloc[np.random.permutation(len(df))].to_csv(str(n)+'_chunk.csv', index=False, header=False, sep=SEP)\n",
    "        ordering = list(range(0,n+1))\n",
    "        \n",
    "        shuffle(ordering)\n",
    "        \n",
    "        # Write the data\n",
    "        with open(filename_out, 'wb') as W:\n",
    "            if header:\n",
    "                W.write(header_cols)\n",
    "            for f in ordering:\n",
    "                with open(str(f)+'_chunk.csv', 'r') as R:\n",
    "                    for line in R:\n",
    "                        W.write(line)\n",
    "                os.remove(str(f)+'_chunk.csv')\n",
    "        filename_in = filename_out\n",
    "        CHUNK_SIZE = int(CHUNK_SIZE / 2)\n",
    "\n",
    "import os\n",
    "\n",
    "local_path = os.getcwd()\n",
    "source = 'bikesharing/hour.csv'\n",
    "disk_shuffle(filename_in = local_path+'/'+source, \\\n",
    "                   filename_out = local_path+'/bikesharing/shuffled_hour_disk.csv', header=True)"
   ]
  },
  {
   "cell_type": "markdown",
   "metadata": {},
   "source": [
    "# Step 3: Calculate feature statistics while data streaming #"
   ]
  },
  {
   "cell_type": "markdown",
   "metadata": {},
   "source": [
    "## Step 3.1: Using un-shuffled data ##"
   ]
  },
  {
   "cell_type": "code",
   "execution_count": 13,
   "metadata": {
    "collapsed": false
   },
   "outputs": [
    {
     "name": "stdout",
     "output_type": "stream",
     "text": [
      "Total rows: 17379\n",
      "Feature 'temp': mean=0.497, max=1.000, min=0.020,sd=0.193\n"
     ]
    }
   ],
   "source": [
    "import os, csv\n",
    "local_path = os.getcwd()\n",
    "source = 'bikesharing/hour.csv'\n",
    "SEP=','\n",
    "running_mean = list()\n",
    "running_std = list()\n",
    "\n",
    "with open(local_path + '/' + source, 'rb') as R:\n",
    "    iterator = csv.DictReader(R, delimiter=SEP)\n",
    "    x = 0.0\n",
    "    x_squared = 0.0\n",
    "    # Load data stream\n",
    "    for n, row in enumerate(iterator):\n",
    "        temp = float(row['temp'])\n",
    "        if n == 0:\n",
    "            max_x, min_x = temp, temp\n",
    "        else:\n",
    "            max_x, min_x = max(temp, max_x),min(temp, min_x)\n",
    "        x += temp\n",
    "        x_squared += temp**2\n",
    "        running_mean.append(x / (n+1))\n",
    "        running_std.append(((x_squared - (x**2)/(n+1))/(n+1))**0.5)\n",
    "        # DATA PROCESSING placeholder\n",
    "        # MACHINE LEARNING placeholder\n",
    "        pass\n",
    "    print ('Total rows: %i' % (n+1))\n",
    "    print ('Feature \\'temp\\': mean=%0.3f, max=%0.3f, min=%0.3f,sd=%0.3f' \\\n",
    "           % (running_mean[-1], max_x, min_x, running_std[-1]))"
   ]
  },
  {
   "cell_type": "code",
   "execution_count": 14,
   "metadata": {
    "collapsed": false
   },
   "outputs": [
    {
     "data": {
      "image/png": "[encoded data removed]",
      "text/plain": [
       "<matplotlib.figure.Figure at 0x113f0e9d0>"
      ]
     },
     "metadata": {},
     "output_type": "display_data"
    }
   ],
   "source": [
    "# Check how the mean and standard deviation vary as more data streams in.\n",
    "# There is a lot of variation in the curves.\n",
    "import matplotlib.pyplot as plt\n",
    "%matplotlib inline\n",
    "\n",
    "plt.plot(running_mean,'r-', label='mean')\n",
    "plt.plot(running_std,'b-', label='standard deviation')\n",
    "\n",
    "# Set y axis limits\n",
    "plt.ylim(0.0,0.6)\n",
    "\n",
    "plt.xlabel('Number of training examples')\n",
    "plt.ylabel('Value') \n",
    "plt.legend(loc='lower right', numpoints= 1)\n",
    "plt.show()"
   ]
  },
  {
   "cell_type": "markdown",
   "metadata": {},
   "source": [
    "## Step 3.2: Using shuffled data ##"
   ]
  },
  {
   "cell_type": "code",
   "execution_count": 15,
   "metadata": {
    "collapsed": false
   },
   "outputs": [
    {
     "name": "stdout",
     "output_type": "stream",
     "text": [
      "Total rows: 17379\n",
      "Feature 'temp': mean=0.497, max=1.000, min=0.020,sd=0.193\n"
     ]
    }
   ],
   "source": [
    "import os, csv\n",
    "local_path = os.getcwd()\n",
    "source = 'bikesharing/shuffled_hour_disk.csv'\n",
    "SEP=','\n",
    "running_mean = list()\n",
    "running_std = list()\n",
    "\n",
    "with open(local_path + '/' + source, 'rb') as R:\n",
    "    iterator = csv.DictReader(R, delimiter=SEP)\n",
    "    x = 0.0\n",
    "    x_squared = 0.0\n",
    "    # Load data stream\n",
    "    for n, row in enumerate(iterator):\n",
    "        temp = float(row['temp'])\n",
    "        if n == 0:\n",
    "            max_x, min_x = temp, temp\n",
    "        else:\n",
    "            max_x, min_x = max(temp, max_x),min(temp, min_x)\n",
    "        x += temp\n",
    "        x_squared += temp**2\n",
    "        running_mean.append(x / (n+1))\n",
    "        running_std.append(((x_squared - (x**2)/(n+1))/(n+1))**0.5)\n",
    "        # DATA PROCESSING placeholder\n",
    "        # MACHINE LEARNING placeholder\n",
    "        pass\n",
    "    print ('Total rows: %i' % (n+1))\n",
    "    print ('Feature \\'temp\\': mean=%0.3f, max=%0.3f, min=%0.3f,sd=%0.3f' \\\n",
    "           % (running_mean[-1], max_x, min_x, running_std[-1]))"
   ]
  },
  {
   "cell_type": "code",
   "execution_count": 16,
   "metadata": {
    "collapsed": false
   },
   "outputs": [
    {
     "data": {
      "image/png": "[encoded data removed]",
      "text/plain": [
       "<matplotlib.figure.Figure at 0x117b2c650>"
      ]
     },
     "metadata": {},
     "output_type": "display_data"
    }
   ],
   "source": [
    "# Check how the mean and standard deviation vary as more data streams in.\n",
    "# The curves are a lot straighter for the shuffled data.\n",
    "import matplotlib.pyplot as plt\n",
    "%matplotlib inline\n",
    "\n",
    "plt.plot(running_mean,'r-', label='mean')\n",
    "plt.plot(running_std,'b-', label='standard deviation')\n",
    "\n",
    "# Set y axis limits\n",
    "plt.ylim(0.0,0.6)\n",
    "\n",
    "plt.xlabel('Number of training examples')\n",
    "plt.ylabel('Value') \n",
    "plt.legend(loc='lower right', numpoints= 1)\n",
    "plt.show()"
   ]
  },
  {
   "cell_type": "markdown",
   "metadata": {},
   "source": [
    "# Step 4: Describing the target variable #"
   ]
  },
  {
   "cell_type": "markdown",
   "metadata": {},
   "source": [
    "We will use the covtype dataset which has classification for tree types to study the target variable."
   ]
  },
  {
   "cell_type": "code",
   "execution_count": 17,
   "metadata": {
    "collapsed": false
   },
   "outputs": [
    {
     "name": "stdout",
     "output_type": "stream",
     "text": [
      "File covtype.data decompressed\n"
     ]
    }
   ],
   "source": [
    "UCI_url = 'https://archive.ics.uci.edu/ml/machine-learning-databases/covtype/covtype.data.gz'\n",
    "gzip_from_UCI(UCI_url)"
   ]
  },
  {
   "cell_type": "code",
   "execution_count": 18,
   "metadata": {
    "collapsed": false
   },
   "outputs": [
    {
     "name": "stdout",
     "output_type": "stream",
     "text": [
      "Total rows: 581012\n",
      "Frequency of classes:\n",
      "Lodgepole Pine    : 283301 48.8%\n",
      "Spruce/Fir        : 211840 36.5%\n",
      "Ponderosa Pine    :  35754 06.2%\n",
      "Krummholz         :  20510 03.5%\n",
      "Douglas-fir       :  17367 03.0%\n",
      "Aspen             :   9493 01.6%\n",
      "Cottonwood/Willow :   2747 00.5%\n",
      "Other             :      0 00.0%\n"
     ]
    }
   ],
   "source": [
    "import os, csv\n",
    "local_path = os.getcwd()\n",
    "source = 'covtype.data'\n",
    "SEP=','\n",
    "\n",
    "forest_type = {1:\"Spruce/Fir\", \n",
    "               2:\"Lodgepole Pine\", \n",
    "               3:\"Ponderosa Pine\", \n",
    "               4:\"Cottonwood/Willow\", \n",
    "               5:\"Aspen\", \n",
    "               6:\"Douglas-fir\", \n",
    "               7:\"Krummholz\"}\n",
    "\n",
    "forest_type_count = {value : 0 for value in forest_type.values()}\n",
    "forest_type_count['Other'] = 0\n",
    "\n",
    "lodgepole_pine = 0\n",
    "spruce = 0\n",
    "proportions = list()\n",
    "\n",
    "with open(local_path+'\\\\'+source, 'rb') as R:\n",
    "    iterator = csv.reader(R, delimiter=SEP)\n",
    "    # Stream load the data\n",
    "    for n, row in enumerate(iterator):\n",
    "        response = int(row[-1]) # The response is the last value\n",
    "        try:\n",
    "            forest_type_count[forest_type[response]] +=1\n",
    "            if response == 1:\n",
    "                spruce += 1\n",
    "            elif response == 2:\n",
    "                lodgepole_pine +=1\n",
    "            if n % 10000 == 0:\n",
    "                proportions.append([spruce/float(n+1),\\\n",
    "                                    lodgepole_pine/float(n+1)])\n",
    "        except:\n",
    "            forest_type_count['Other'] += 1\n",
    "    \n",
    "    print ('Total rows: %i' % (n+1))\n",
    "    print ('Frequency of classes:')\n",
    "    \n",
    "    for ftype, freq in sorted([(t,v) for t,v \\\n",
    "        in forest_type_count.iteritems()], key = \\\n",
    "        lambda x: x[1], reverse=True):\n",
    "            print (\"%-18s: %6i %04.1f%%\" % \\\n",
    "                   (ftype, freq, freq*100/float(n+1)))"
   ]
  },
  {
   "cell_type": "code",
   "execution_count": 19,
   "metadata": {
    "collapsed": false
   },
   "outputs": [
    {
     "data": {
      "image/png": "[encoded data removed]",
      "text/plain": [
       "<matplotlib.figure.Figure at 0x1176cf210>"
      ]
     },
     "metadata": {},
     "output_type": "display_data"
    }
   ],
   "source": [
    "# Plot to show percent of training samples that are of type Lodgepole Pine and Spruce/Fir \n",
    "import matplotlib.pyplot as plt\n",
    "import numpy as np\n",
    "%matplotlib inline\n",
    "proportions = np.array(proportions)\n",
    "plt.plot(proportions[:,0],'r-', label='Spruce/Fir')\n",
    "plt.plot(proportions[:,1],'b-', label='Lodgepole Pine')\n",
    "plt.ylim(0.0,0.8)\n",
    "plt.xlabel('Training examples (unit=10000)')\n",
    "plt.ylabel('%') \n",
    "plt.legend(loc='lower right', numpoints= 1)\n",
    "plt.show()"
   ]
  },
  {
   "cell_type": "markdown",
   "metadata": {},
   "source": [
    "A shuffle is really necessary in this example if we want a stochasting online algorithm to correctly learn from the data."
   ]
  },
  {
   "cell_type": "markdown",
   "metadata": {},
   "source": [
    "# Step 5: Hashing Trick #\n",
    "\n",
    "A work around to one-hot encoding categorical features as while the data is streaming in, we do not know how many categories we are dealing with."
   ]
  },
  {
   "cell_type": "code",
   "execution_count": 20,
   "metadata": {
    "collapsed": false
   },
   "outputs": [
    {
     "name": "stdout",
     "output_type": "stream",
     "text": [
      "  (0, 61)\t1.0\n",
      "  (0, 271)\t1.0\n",
      "  (0, 287)\t1.0\n",
      "  (0, 452)\t1.0\n",
      "  (0, 462)\t1.0\n",
      "  (0, 539)\t1.0\n",
      "  (0, 605)\t1.0\n",
      "  (0, 726)\t1.0\n",
      "  (0, 918)\t1.0\n"
     ]
    }
   ],
   "source": [
    "from sklearn.feature_extraction.text import HashingVectorizer\n",
    "\n",
    "h = HashingVectorizer(n_features = 1000, \n",
    "                      binary = True, \n",
    "                      norm = None)\n",
    "sparse_vector = h.transform(['A simple toy example will make clear how it works.'])\n",
    "print(sparse_vector)"
   ]
  },
  {
   "cell_type": "code",
   "execution_count": 21,
   "metadata": {
    "collapsed": false
   },
   "outputs": [
    {
     "name": "stdout",
     "output_type": "stream",
     "text": [
      "{'another numeric feature': 2, 'f1*f2*f3': 6, 'numeric feature': 3, 'Categorical feature = 3': 1}\n"
     ]
    }
   ],
   "source": [
    "from sklearn.feature_extraction import FeatureHasher\n",
    "\n",
    "h = FeatureHasher(n_features=1000, \n",
    "                  non_negative=True)\n",
    "\n",
    "example_row = {'numeric feature':3, 'another numeric feature':2, 'Categorical feature = 3':1, 'f1*f2*f3':1*2*3}\n",
    "print (example_row)"
   ]
  },
  {
   "cell_type": "markdown",
   "metadata": {},
   "source": [
    "# Step 6: Implementing Stochastic Gradient Descent #"
   ]
  },
  {
   "cell_type": "markdown",
   "metadata": {},
   "source": [
    "## Step 6.1: SGD for a classification problem - Forest Covertype dataset ##"
   ]
  },
  {
   "cell_type": "code",
   "execution_count": 25,
   "metadata": {
    "collapsed": false
   },
   "outputs": [],
   "source": [
    "# Step 1: RAM shuffle the data\n",
    "import os\n",
    "local_path = os.getcwd()\n",
    "source = 'covtype.data'\n",
    "ram_shuffle(filename_in= local_path + '/' + source, \\\n",
    "            filename_out=local_path + '/shuffled_covtype.data', \\\n",
    "            header=False)"
   ]
  },
  {
   "cell_type": "code",
   "execution_count": 26,
   "metadata": {
    "collapsed": false
   },
   "outputs": [
    {
     "name": "stdout",
     "output_type": "stream",
     "text": [
      "15:47:50 holdout accuracy: 0.605\n",
      "15:47:50 progressive accuracy: 0.612\n",
      "15:48:16 holdout accuracy: 0.609\n",
      "15:48:16 progressive accuracy: 0.613\n",
      "15:48:16 FINAL holdout accuracy: 0.609\n",
      "15:48:16 FINAL progressive accuracy: 0.613\n"
     ]
    }
   ],
   "source": [
    "import csv, time\n",
    "import numpy as np\n",
    "from sklearn.linear_model import SGDClassifier\n",
    "\n",
    "source = 'shuffled_covtype.data'\n",
    "SEP=','\n",
    "forest_type = [t+1 for t in range(7)]\n",
    "\n",
    "# Define the classifier\n",
    "SGD = SGDClassifier(loss='log', \n",
    "                    penalty=None, \n",
    "                    random_state = 1, \n",
    "                    average=True)\n",
    "accuracy = 0\n",
    "holdout_count = 0\n",
    "prog_accuracy = 0\n",
    "prog_count = 0\n",
    "cold_start = 200000\n",
    "k_holdout = 10\n",
    "\n",
    "with open(local_path + '/' + source, 'rb') as R:\n",
    "    iterator = csv.reader(R, delimiter=SEP)\n",
    "    \n",
    "    # Iterate through the streaming data\n",
    "    for n, row in enumerate(iterator):\n",
    "        if n > 250000: # Reducing the running time of the experiment\n",
    "            break \n",
    "        \n",
    "        # Data processing\n",
    "        # Target variable is covertype, the last column value\n",
    "        response = np.array([int(row[-1])]) # The response is the last value\n",
    "        # Features are all but the last column value\n",
    "        features = np.array(map(float,row[:-1])).reshape(1,-1)\n",
    "        \n",
    "        # Machine learnig\n",
    "        if (n + 1) >= cold_start and (n + 1 - cold_start) % k_holdout==0:\n",
    "            \n",
    "            if int(SGD.predict(features))==response[0]:\n",
    "                accuracy += 1\n",
    "            holdout_count += 1\n",
    "            \n",
    "            if (n+1-cold_start) % 25000 == 0 and (n+1) > cold_start:\n",
    "                    print '%s holdout accuracy: %0.3f' % (time.strftime('%X'), accuracy / float(holdout_count))\n",
    "        else:\n",
    "            # PROGRESSIVE VALIDATION\n",
    "            if (n+1) >= cold_start:\n",
    "                if int(SGD.predict(features)) == response[0]:\n",
    "                    prog_accuracy += 1\n",
    "                prog_count += 1\n",
    "                \n",
    "                if n % 25000 == 0 and n > cold_start:\n",
    "                    print '%s progressive accuracy: %0.3f' % (time.strftime('%X'), prog_accuracy / float(prog_count))\n",
    "            \n",
    "            # LEARNING PHASE\n",
    "            SGD.partial_fit(features, \n",
    "                            response, \n",
    "                            classes = forest_type)\n",
    "            \n",
    "print '%s FINAL holdout accuracy: %0.3f' % (time.strftime('%X'), accuracy / ((n+1-cold_start) / float(k_holdout)))\n",
    "print '%s FINAL progressive accuracy: %0.3f' % (time.strftime('%X'), prog_accuracy / float(prog_count))"
   ]
  },
  {
   "cell_type": "markdown",
   "metadata": {},
   "source": [
    "## Step 6.2: SGD for a regression problem - Bikesharing dataset ##"
   ]
  },
  {
   "cell_type": "code",
   "execution_count": 27,
   "metadata": {
    "collapsed": false
   },
   "outputs": [
    {
     "name": "stdout",
     "output_type": "stream",
     "text": [
      "15:52:49 holdout RMSE: 281.214 holdout RMSLE: 1.901\n",
      "15:52:49 holdout RMSE: 255.092 holdout RMSLE: 1.803\n",
      "15:52:49 holdout RMSE: 255.578 holdout RMSLE: 1.799\n",
      "15:52:49 holdout RMSE: 254.598 holdout RMSLE: 1.816\n",
      "15:52:49 holdout RMSE: 239.728 holdout RMSLE: 1.738\n",
      "15:52:49 FINAL holdout RMSE: 229.154\n",
      "15:52:49 FINAL holdout RMSLE: 1.679\n"
     ]
    }
   ],
   "source": [
    "# We do not shuffle the data in this case as it is time series data.\n",
    "\n",
    "import csv, time, os\n",
    "import numpy as np\n",
    "from sklearn.linear_model import SGDRegressor\n",
    "from sklearn.feature_extraction import FeatureHasher\n",
    "\n",
    "source = 'bikesharing/hour.csv'\n",
    "local_path = os.getcwd()\n",
    "SEP=','\n",
    "\n",
    "def apply_log(x): return np.log(float(x)+1)\n",
    "def apply_exp(x): return np.exp(float(x))-1\n",
    "\n",
    "# Define regressor\n",
    "SGD = SGDRegressor(loss = 'squared_loss', \n",
    "                   penalty = None, \n",
    "                   random_state = 1, \n",
    "                   average = True)\n",
    "\n",
    "# Define hasher as some of the features are categorical\n",
    "h = FeatureHasher(non_negative=True)\n",
    "\n",
    "val_rmse = 0\n",
    "val_rmsle = 0\n",
    "predictions_start = 16000\n",
    "\n",
    "with open(local_path +'/'+source, 'rb') as R:\n",
    "    iterator = csv.DictReader(R, delimiter=SEP)\n",
    "    \n",
    "    for n, row in enumerate(iterator):\n",
    "        # Data processing\n",
    "        \n",
    "        # Define the target variable\n",
    "        target = np.array([apply_log(row['cnt'])])\n",
    "        \n",
    "        # Define the features\n",
    "        features = {k+'_'+v:1 for k,v in row.iteritems() \\\n",
    "            if k in ['holiday','hr','mnth','season', \\\n",
    "            'weathersit','weekday','workingday','yr']}\n",
    "        \n",
    "        numeric_features = {k : float(v) for k,v in \\\n",
    "           row.iteritems() if k in ['hum', 'temp', '\\\n",
    "           atemp', 'windspeed']}\n",
    "        \n",
    "        features.update(numeric_features)\n",
    "        hashed_features = h.transform([features])\n",
    "        \n",
    "        # Machine learning\n",
    "        if (n + 1) >= predictions_start:\n",
    "            # HOLDOUT AFTER N PHASE\n",
    "            predicted = SGD.predict(hashed_features)\n",
    "            \n",
    "            val_rmse += (apply_exp(predicted) \\\n",
    "                - apply_exp(target))**2\n",
    "            val_rmsle += (predicted - target)**2\n",
    "            \n",
    "            if (n-predictions_start+1) % 250 == 0 \\\n",
    "                and (n+1) > predictions_start:\n",
    "                print '%s holdout RMSE: %0.3f' \\\n",
    "                % (time.strftime('%X'), (val_rmse \\\n",
    "                / float(n-predictions_start+1))**0.5),\n",
    "                print 'holdout RMSLE: %0.3f' % \\\n",
    "                 ((val_rmsle / float(n-predictions_start+1))**0.5)\n",
    "        else:\n",
    "            # Learning phase\n",
    "            SGD.partial_fit(hashed_features, target)\n",
    "print '%s FINAL holdout RMSE: %0.3f' % \\\n",
    "    (time.strftime('%X'), (val_rmse \\\n",
    "   / float(n - predictions_start + 1))**0.5)\n",
    "print '%s FINAL holdout RMSLE: %0.3f' % \\\n",
    "    (time.strftime('%X'), (val_rmsle \\\n",
    "   / float(n - predictions_start + 1))**0.5)"
   ]
  },
  {
   "cell_type": "code",
   "execution_count": null,
   "metadata": {
    "collapsed": true
   },
   "outputs": [],
   "source": []
  }
 ],
 "metadata": {
  "kernelspec": {
   "display_name": "Python 2",
   "language": "python",
   "name": "python2"
  },
  "language_info": {
   "codemirror_mode": {
    "name": "ipython",
    "version": 2
   },
   "file_extension": ".py",
   "mimetype": "text/x-python",
   "name": "python",
   "nbconvert_exporter": "python",
   "pygments_lexer": "ipython2",
   "version": "2.7.12"
  }
 },
 "nbformat": 4,
 "nbformat_minor": 0
}

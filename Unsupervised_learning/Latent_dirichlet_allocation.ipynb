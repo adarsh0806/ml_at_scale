{
 "cells": [
  {
   "cell_type": "markdown",
   "metadata": {},
   "source": [
    "## 1: Latent Dirichlet Allocation ##\n",
    "\n",
    "LDA is used to classify text in a document to a particular topic. It builds a topic per document model and words per topic model, modeled as Dirichlet distributions. \n",
    "\n",
    "Each document is modeled as a distribution of topics and each topic is modeled as a distribution of words."
   ]
  },
  {
   "cell_type": "markdown",
   "metadata": {},
   "source": [
    "## LDA on a real world dataset ##\n",
    "\n",
    "We will be using the 20 Newsgroup dataset wich is a collection of emails exchanged in 20 newsgroups."
   ]
  },
  {
   "cell_type": "markdown",
   "metadata": {},
   "source": [
    "## 2: Load the dataset ##\n",
    "\n",
    "Remove all email headers, footers and quotes from the replied emails.\n",
    "\n",
    "The 20 newsgroups dataset comprises around 18000 newsgroups posts on 20 topics split in two subsets: \n",
    "one for training (or development) and the other one for testing (or for performance evaluation). Some of these topics are similar, so we will try to classify them into 12 topics.\n",
    "\n",
    "The split between the train and test set is based upon a messages posted before and after a specific date."
   ]
  },
  {
   "cell_type": "code",
   "execution_count": 1,
   "metadata": {
    "collapsed": true
   },
   "outputs": [],
   "source": [
    "'''\n",
    "Dataset from http://scikit-learn.org/stable/datasets/twenty_newsgroups.html\n",
    "'''\n",
    "from sklearn.datasets import fetch_20newsgroups\n",
    "documents = fetch_20newsgroups(remove=('headers', 'footers', 'quotes'), random_state=101).data"
   ]
  },
  {
   "cell_type": "code",
   "execution_count": 2,
   "metadata": {
    "collapsed": false
   },
   "outputs": [
    {
     "name": "stdout",
     "output_type": "stream",
     "text": [
      "Size of dataset:  11314\n",
      "\n",
      "I would suggest Draw for Windows (by Micrografx).  I have this on my\n",
      "home box.  Its quite impressive and only cost UKL100.  It has a rather\n",
      "nice clip-art library facility which you can expand with your own\n",
      "drawings.  There is no circuit component clip-art included, but you\n",
      "could add your own quite easily.\n",
      "\n",
      "It works with any Windows printer driver of course, and can also\n",
      "export embedded postscript and PCX files.\n",
      "\n",
      "Note: I am not connected with Micrografx in any way.\n",
      "\n",
      "Paul.\n"
     ]
    }
   ],
   "source": [
    "'''\n",
    "Checking the size of dataset and previewing a document\n",
    "'''\n",
    "\n",
    "print \"Size of dataset: \",len(documents)\n",
    "\n",
    "# Previewing a document\n",
    "document_num = 8400\n",
    "print documents[document_num]"
   ]
  },
  {
   "cell_type": "markdown",
   "metadata": {},
   "source": [
    "## 3: Data Preprocessing ##\n",
    "\n",
    "We will perform the following steps:\n",
    "\n",
    "* Tokenization: Split the text into sentences and the sentences into words. Lowercase the words and remove punctuation.\n",
    "* Words that have fewer than 3 characters are removed.\n",
    "* All stopwords are removed.\n",
    "* Words are lemmatized - words in third person are changed to first person.\n",
    "* Words are stemmed - words are reduced to their root form."
   ]
  },
  {
   "cell_type": "code",
   "execution_count": 5,
   "metadata": {
    "collapsed": false
   },
   "outputs": [],
   "source": [
    "'''\n",
    "Loading Gensim library for LDA\n",
    "'''\n",
    "# pip install gensim\n",
    "import gensim\n",
    "from gensim.utils import simple_preprocess\n",
    "from gensim.parsing.preprocessing import STOPWORDS\n",
    "from nltk.stem import WordNetLemmatizer, SnowballStemmer\n",
    "import matplotlib\n",
    "import numpy as np\n",
    "import pandas as pd\n",
    "import matplotlib.pyplot as plt\n",
    "from matplotlib import pylab\n",
    "%matplotlib inline\n",
    "import matplotlib.cm as cm\n",
    "import copy\n",
    "import tempfile\n",
    "import os\n",
    "\n",
    "np.random.seed(101)"
   ]
  },
  {
   "cell_type": "code",
   "execution_count": 8,
   "metadata": {
    "collapsed": true
   },
   "outputs": [],
   "source": [
    "'''\n",
    "Data preprocessing\n",
    "'''\n",
    "# Lemmatize to change words in third person to first person\n",
    "lm = WordNetLemmatizer()\n",
    "\n",
    "# Stemmer so words are reduced to their root form.\n",
    "stemmer = SnowballStemmer(\"english\")\n",
    "\n",
    "def lem_stem(text):\n",
    "    return stemmer.stem(lm.lemmatize(text, pos='v'))\n",
    "\n",
    "# Tokenize and lemmatize\n",
    "def tokenize_lemmatize(text):\n",
    "    return [lem_stem(token)\n",
    "            for token in gensim.utils.simple_preprocess(text) \n",
    "            # Remove stop words and words less than 3 characters long\n",
    "            if token not in gensim.parsing.preprocessing.STOPWORDS and len(token) > 3]"
   ]
  },
  {
   "cell_type": "code",
   "execution_count": 9,
   "metadata": {
    "collapsed": false
   },
   "outputs": [
    {
     "name": "stdout",
     "output_type": "stream",
     "text": [
      "[u'suggest', u'draw', u'window', u'micrografx', u'home', u'impress', u'cost', u'nice', u'clip', u'librari', u'facil', u'expand', u'draw', u'circuit', u'compon', u'clip', u'includ', u'easili', u'work', u'window', u'printer', u'driver', u'cours', u'export', u'emb', u'postscript', u'file', u'note', u'connect', u'micrografx', u'paul']\n"
     ]
    }
   ],
   "source": [
    "'''\n",
    "Preview a document after preprocessing\n",
    "'''\n",
    "print tokenize_lemmatize(documents[document_num])"
   ]
  },
  {
   "cell_type": "code",
   "execution_count": 10,
   "metadata": {
    "collapsed": true
   },
   "outputs": [],
   "source": [
    "'''\n",
    "Perform preprocessing on entire dataset\n",
    "'''\n",
    "processed_docs = [tokenize_lemmatize(doc) for doc in documents]"
   ]
  },
  {
   "cell_type": "markdown",
   "metadata": {},
   "source": [
    "## 4: Bag of words on the dataset ##"
   ]
  },
  {
   "cell_type": "code",
   "execution_count": 11,
   "metadata": {
    "collapsed": true
   },
   "outputs": [],
   "source": [
    "'''\n",
    "Create a dictionary containing the number of times a word appears in the training set\n",
    "'''\n",
    "word_count_dict = gensim.corpora.Dictionary(processed_docs)"
   ]
  },
  {
   "cell_type": "code",
   "execution_count": 12,
   "metadata": {
    "collapsed": true
   },
   "outputs": [],
   "source": [
    "'''\n",
    "Remove all very rare and very common words:\n",
    "\n",
    "- words appearing less than 20 times\n",
    "- words appearing in more than 20% of all documents\n",
    "'''\n",
    "word_count_dict.filter_extremes(no_below=20, \n",
    "                                no_above=0.2)"
   ]
  },
  {
   "cell_type": "code",
   "execution_count": 13,
   "metadata": {
    "collapsed": true
   },
   "outputs": [],
   "source": [
    "'''\n",
    "Create the Bag-of-words model for each document i.e for each document we create a dictionary reporting how many\n",
    "words and how many times those words appear.\n",
    "'''\n",
    "bag_of_words_corpus = [word_count_dict.doc2bow(pdoc) for pdoc in processed_docs]"
   ]
  },
  {
   "cell_type": "code",
   "execution_count": 14,
   "metadata": {
    "collapsed": false
   },
   "outputs": [
    {
     "name": "stdout",
     "output_type": "stream",
     "text": [
      "Word 531 (\"emb\") appears 1 time[s]\n",
      "Word 691 (\"suggest\") appears 1 time[s]\n",
      "Word 914 (\"postscript\") appears 1 time[s]\n",
      "Word 947 (\"easili\") appears 1 time[s]\n",
      "Word 1025 (\"work\") appears 1 time[s]\n",
      "Word 1034 (\"cost\") appears 1 time[s]\n",
      "Word 1234 (\"window\") appears 2 time[s]\n",
      "Word 1414 (\"note\") appears 1 time[s]\n",
      "Word 1425 (\"printer\") appears 1 time[s]\n",
      "Word 1658 (\"driver\") appears 1 time[s]\n",
      "Word 1687 (\"file\") appears 1 time[s]\n",
      "Word 1764 (\"impress\") appears 1 time[s]\n",
      "Word 2124 (\"cours\") appears 1 time[s]\n",
      "Word 2287 (\"circuit\") appears 1 time[s]\n",
      "Word 2414 (\"paul\") appears 1 time[s]\n",
      "Word 2782 (\"includ\") appears 1 time[s]\n",
      "Word 2820 (\"home\") appears 1 time[s]\n",
      "Word 2830 (\"librari\") appears 1 time[s]\n",
      "Word 2832 (\"nice\") appears 1 time[s]\n",
      "Word 2834 (\"draw\") appears 2 time[s]\n",
      "Word 3206 (\"facil\") appears 1 time[s]\n",
      "Word 3258 (\"clip\") appears 2 time[s]\n",
      "Word 3313 (\"connect\") appears 1 time[s]\n",
      "Word 3446 (\"compon\") appears 1 time[s]\n",
      "Word 3528 (\"expand\") appears 1 time[s]\n",
      "Word 3615 (\"export\") appears 1 time[s]\n"
     ]
    }
   ],
   "source": [
    "'''\n",
    "Preview Bag of words for our sample document\n",
    "'''\n",
    "# Here document_num is document number 8400\n",
    "bow_doc1 = bag_of_words_corpus[document_num]\n",
    "\n",
    "for i in range(len(bow_doc1)):\n",
    "    print \"Word {} (\\\"{}\\\") appears {} time[s]\".format(bow_doc1[i][0], word_count_dict[bow_doc1[i][0]], bow_doc1[i][1])"
   ]
  },
  {
   "cell_type": "markdown",
   "metadata": {},
   "source": [
    "## 5: Running LDA ##\n",
    "\n",
    "We are going for 12 topics in the document corpus."
   ]
  },
  {
   "cell_type": "code",
   "execution_count": 15,
   "metadata": {
    "collapsed": true
   },
   "outputs": [],
   "source": [
    "# LDA mono-core\n",
    "lda_model = gensim.models.LdaModel(bag_of_words_corpus, \n",
    "                                   num_topics = 12, \n",
    "                                   id2word = word_count_dict,\n",
    "                                   iterations = 200, \n",
    "                                   passes = 50)\n",
    "\n",
    "# LDA multicore (in this configuration uses n_cores-1)\n",
    "# lda_model = gensim.models.LdaMulticore(bag_of_words_corpus, \n",
    "#                                        num_topics=12, \n",
    "#                                        id2word = word_count_dict, \n",
    "#                                        passes = 50, \n",
    "#                                        workers=4)"
   ]
  },
  {
   "cell_type": "code",
   "execution_count": 16,
   "metadata": {
    "collapsed": false
   },
   "outputs": [
    {
     "name": "stdout",
     "output_type": "stream",
     "text": [
      "Topic:0 Word composition:0.015*imag + 0.014*version + 0.013*avail + 0.013*includ + 0.013*softwar + 0.012*file + 0.011*graphic + 0.010*program + 0.010*data + 0.009*format\n",
      "\n",
      "Topic:1 Word composition:0.040*window + 0.030*file + 0.018*program + 0.014*problem + 0.011*widget + 0.011*applic + 0.010*server + 0.010*entri + 0.009*display + 0.009*error\n",
      "\n",
      "Topic:2 Word composition:0.011*peopl + 0.010*mean + 0.010*question + 0.009*believ + 0.009*exist + 0.008*encrypt + 0.008*point + 0.008*reason + 0.008*post + 0.007*thing\n",
      "\n",
      "Topic:3 Word composition:0.010*caus + 0.009*good + 0.009*test + 0.009*bike + 0.008*problem + 0.008*effect + 0.008*differ + 0.008*engin + 0.007*time + 0.006*high\n",
      "\n",
      "Topic:4 Word composition:0.018*state + 0.017*govern + 0.015*right + 0.010*weapon + 0.010*crime + 0.009*peopl + 0.009*protect + 0.008*legal + 0.008*control + 0.008*drug\n",
      "\n",
      "Topic:5 Word composition:0.017*christian + 0.016*armenian + 0.013*jesus + 0.012*peopl + 0.008*say + 0.008*church + 0.007*bibl + 0.007*come + 0.006*live + 0.006*book\n",
      "\n",
      "Topic:6 Word composition:0.018*go + 0.015*time + 0.013*say + 0.012*peopl + 0.012*come + 0.012*thing + 0.011*want + 0.010*good + 0.009*look + 0.009*tell\n",
      "\n",
      "Topic:7 Word composition:0.012*presid + 0.009*state + 0.008*peopl + 0.008*work + 0.008*govern + 0.007*year + 0.007*israel + 0.007*say + 0.006*american + 0.006*isra\n",
      "\n",
      "Topic:8 Word composition:0.022*thank + 0.020*card + 0.015*work + 0.013*need + 0.013*price + 0.012*driver + 0.010*sell + 0.010*help + 0.010*mail + 0.010*look\n",
      "\n",
      "Topic:9 Word composition:0.019*space + 0.011*inform + 0.011*univers + 0.010*mail + 0.009*launch + 0.008*list + 0.008*post + 0.008*anonym + 0.008*research + 0.008*send\n",
      "\n",
      "Topic:10 Word composition:0.044*game + 0.031*team + 0.027*play + 0.022*year + 0.020*player + 0.016*season + 0.015*hockey + 0.014*leagu + 0.011*score + 0.010*goal\n",
      "\n",
      "Topic:11 Word composition:0.075*drive + 0.030*disk + 0.028*control + 0.028*scsi + 0.020*power + 0.020*hard + 0.018*wire + 0.015*cabl + 0.013*instal + 0.012*connect\n",
      "\n"
     ]
    }
   ],
   "source": [
    "'''\n",
    "For each topic, we will explore the words occuring in that topic and its relative weight\n",
    "'''\n",
    "\n",
    "for idx, topic in lda_model.print_topics(-1):\n",
    "    print \"Topic:{} Word composition:{}\".format(idx, topic)\n",
    "    print"
   ]
  },
  {
   "cell_type": "markdown",
   "metadata": {},
   "source": [
    "## 6: Classification of the topics ##\n",
    "\n",
    "Using the words in each topic and their corresponding weights, we have the following categories:\n",
    "\n",
    "* 0: Software\n",
    "* 1: Applications\n",
    "* 2: Inference\n",
    "* 3: Transportation\n",
    "* 4: Law and Order\n",
    "* 5: Christianity\n",
    "* 6: Human actions\n",
    "* 7: US Government\n",
    "* 8: Computer drivers\n",
    "* 9: Space program\n",
    "* 10: Sports\n",
    "* 11: Hardware"
   ]
  },
  {
   "cell_type": "markdown",
   "metadata": {},
   "source": [
    "## 7.1: Performance evaluation by classifying test document ##\n",
    "\n",
    "We will check to see where our test document would be classified. "
   ]
  },
  {
   "cell_type": "code",
   "execution_count": 19,
   "metadata": {
    "collapsed": false
   },
   "outputs": [
    {
     "name": "stdout",
     "output_type": "stream",
     "text": [
      "\n",
      "I would suggest Draw for Windows (by Micrografx).  I have this on my\n",
      "home box.  Its quite impressive and only cost UKL100.  It has a rather\n",
      "nice clip-art library facility which you can expand with your own\n",
      "drawings.  There is no circuit component clip-art included, but you\n",
      "could add your own quite easily.\n",
      "\n",
      "It works with any Windows printer driver of course, and can also\n",
      "export embedded postscript and PCX files.\n",
      "\n",
      "Note: I am not connected with Micrografx in any way.\n",
      "\n",
      "Paul.\n"
     ]
    }
   ],
   "source": [
    "'''\n",
    "Text of test document\n",
    "'''\n",
    "print documents[document_num]"
   ]
  },
  {
   "cell_type": "code",
   "execution_count": 22,
   "metadata": {
    "collapsed": false
   },
   "outputs": [
    {
     "name": "stdout",
     "output_type": "stream",
     "text": [
      "\n",
      "Score: 0.46316527746\t \n",
      "Topic: 0.015*imag + 0.014*version + 0.013*avail + 0.013*includ + 0.013*softwar + 0.012*file + 0.011*graphic + 0.010*program + 0.010*data + 0.009*format\n",
      "\n",
      "Score: 0.228620996302\t \n",
      "Topic: 0.040*window + 0.030*file + 0.018*program + 0.014*problem + 0.011*widget + 0.011*applic + 0.010*server + 0.010*entri + 0.009*display + 0.009*error\n",
      "\n",
      "Score: 0.221216856252\t \n",
      "Topic: 0.022*thank + 0.020*card + 0.015*work + 0.013*need + 0.013*price + 0.012*driver + 0.010*sell + 0.010*help + 0.010*mail + 0.010*look\n",
      "\n",
      "Score: 0.0647738541087\t \n",
      "Topic: 0.075*drive + 0.030*disk + 0.028*control + 0.028*scsi + 0.020*power + 0.020*hard + 0.018*wire + 0.015*cabl + 0.013*instal + 0.012*connect\n"
     ]
    }
   ],
   "source": [
    "'''\n",
    "Check which topic our test document belongs to.\n",
    "'''\n",
    "\n",
    "# Our test document is document number 8400\n",
    "for index, score in sorted(lda_model[bag_of_words_corpus[document_num]], key=lambda tup: -1*tup[1]):\n",
    "    print \"\\nScore: {}\\t \\nTopic: {}\".format(score, lda_model.print_topic(index, 10))"
   ]
  },
  {
   "cell_type": "markdown",
   "metadata": {},
   "source": [
    "It has the highest probability (`46.3%`) to be  part of the topic that we assigned as Software, which is the accurate classification."
   ]
  },
  {
   "cell_type": "markdown",
   "metadata": {},
   "source": [
    "## 7.2 Performance evaluation of model as a whole ##\n",
    "\n",
    "We use the perplexity(logarithm) for our evaluation. "
   ]
  },
  {
   "cell_type": "code",
   "execution_count": 23,
   "metadata": {
    "collapsed": false
   },
   "outputs": [
    {
     "name": "stdout",
     "output_type": "stream",
     "text": [
      "Log perplexity of the model is -7.29852440637\n"
     ]
    }
   ],
   "source": [
    "'''\n",
    "The lower the value, the better our model is  at making predictions.\n",
    "'''\n",
    "print \"Log perplexity of the model is\", lda_model.log_perplexity(bag_of_words_corpus)"
   ]
  },
  {
   "cell_type": "markdown",
   "metadata": {},
   "source": [
    "## 8: Testing model on unseen document ##"
   ]
  },
  {
   "cell_type": "code",
   "execution_count": 27,
   "metadata": {
    "collapsed": false
   },
   "outputs": [
    {
     "name": "stdout",
     "output_type": "stream",
     "text": [
      "Score: 0.616103564338\t Topic: 0.044*game + 0.031*team + 0.027*play + 0.022*year + 0.020*player\n",
      "Score: 0.21722459647\t Topic: 0.019*space + 0.011*inform + 0.011*univers + 0.010*mail + 0.009*launch\n",
      "Score: 0.0166676135184\t Topic: 0.012*presid + 0.009*state + 0.008*peopl + 0.008*work + 0.008*govern\n",
      "Score: 0.0166674469353\t Topic: 0.040*window + 0.030*file + 0.018*program + 0.014*problem + 0.011*widget\n",
      "Score: 0.0166673401448\t Topic: 0.018*state + 0.017*govern + 0.015*right + 0.010*weapon + 0.010*crime\n",
      "Score: 0.0166673331146\t Topic: 0.075*drive + 0.030*disk + 0.028*control + 0.028*scsi + 0.020*power\n",
      "Score: 0.0166672048084\t Topic: 0.010*caus + 0.009*good + 0.009*test + 0.009*bike + 0.008*problem\n",
      "Score: 0.0166670971021\t Topic: 0.015*imag + 0.014*version + 0.013*avail + 0.013*includ + 0.013*softwar\n",
      "Score: 0.0166670408928\t Topic: 0.011*peopl + 0.010*mean + 0.010*question + 0.009*believ + 0.009*exist\n",
      "Score: 0.0166669901011\t Topic: 0.022*thank + 0.020*card + 0.015*work + 0.013*need + 0.013*price\n",
      "Score: 0.0166669183008\t Topic: 0.018*go + 0.015*time + 0.013*say + 0.012*peopl + 0.012*come\n",
      "Score: 0.0166668542736\t Topic: 0.017*christian + 0.016*armenian + 0.013*jesus + 0.012*peopl + 0.008*say\n"
     ]
    }
   ],
   "source": [
    "unseen_document = \"My favorite sports activities are running and swimming.\"\n",
    "\n",
    "# Data preprocessing step for the unseen document\n",
    "bow_vector = word_count_dict.doc2bow(tokenize_lemmatize(unseen_document))\n",
    "\n",
    "for index, score in sorted(lda_model[bow_vector], key=lambda tup: -1*tup[1]):\n",
    "    print \"Score: {}\\t Topic: {}\".format(score, lda_model.print_topic(index, 5))"
   ]
  },
  {
   "cell_type": "markdown",
   "metadata": {},
   "source": [
    "The model correctly classifies the unseen document with 61.6% probability to the Sports category."
   ]
  },
  {
   "cell_type": "markdown",
   "metadata": {},
   "source": [
    "## 9. LDA Scalability ##\n",
    "\n",
    "To check the performance of LDA with bigger text corpuses, we use the `.update()` method offered by LdaModel."
   ]
  },
  {
   "cell_type": "code",
   "execution_count": 29,
   "metadata": {
    "collapsed": false
   },
   "outputs": [
    {
     "name": "stdout",
     "output_type": "stream",
     "text": [
      "batch_size = 50\n",
      "batch_size = 100\n",
      "batch_size = 200\n",
      "batch_size = 500\n"
     ]
    }
   ],
   "source": [
    "'''\n",
    "Test on a subset of documents(first 1000).\n",
    "\n",
    "Then update the model with batches of 50,100,200,500 documents.\n",
    "'''\n",
    "import time\n",
    "# Test corpus\n",
    "small_corpus = bag_of_words_corpus[:1000]\n",
    "\n",
    "# Track times for each mini batch updating the model\n",
    "batch_times = {}\n",
    "\n",
    "for batch_size in [50, 100, 200, 500]:\n",
    "    print \"batch_size =\", batch_size\n",
    "    tik0 = time.time()\n",
    "    \n",
    "    # Define model\n",
    "    lda_model = gensim.models.LdaModel(num_topics = 12, \n",
    "                                       id2word = word_count_dict)\n",
    "    batch_times[batch_size] = []\n",
    "    \n",
    "    # Iterate through the test corpus, increment by batch size\n",
    "    for i in range(0, len(small_corpus), batch_size):\n",
    "        # Use update()\n",
    "        lda_model.update(small_corpus[i:i+batch_size], \n",
    "                         update_every=25, \n",
    "                         passes=1+500/batch_size)\n",
    "        # Append time taken\n",
    "        batch_times[batch_size].append(time.time() - tik0)\n",
    "        "
   ]
  },
  {
   "cell_type": "code",
   "execution_count": 30,
   "metadata": {
    "collapsed": false
   },
   "outputs": [
    {
     "data": {
      "image/png": "[encoded data removed]",
      "text/plain": [
       "<matplotlib.figure.Figure at 0x12c254850>"
      ]
     },
     "metadata": {},
     "output_type": "display_data"
    }
   ],
   "source": [
    "'''\n",
    "Plotting results \n",
    "'''\n",
    "plt.plot(range(50, 1001, 50), batch_times[50], 'g', label='size 50')\n",
    "plt.plot(range(100, 1001, 100), batch_times[100], 'b', label='size 100')\n",
    "plt.plot(range(200, 1001, 200), batch_times[200], 'k', label='size 200')\n",
    "plt.plot(range(500, 1001, 500), batch_times[500], 'r', label='size 500')\n",
    "\n",
    "plt.xlabel(\"Training set size\")\n",
    "plt.ylabel(\"Training time\")\n",
    "plt.xlim([0, 1000])\n",
    "plt.legend(loc=0)\n",
    "plt.show()"
   ]
  },
  {
   "cell_type": "markdown",
   "metadata": {},
   "source": [
    "The larger the batch size, the faster the training. This is beacuse bigger batches need fewer passes while updating the model. On the other hand, the bigger the batch, the more memory you would need. "
   ]
  },
  {
   "cell_type": "code",
   "execution_count": null,
   "metadata": {
    "collapsed": true
   },
   "outputs": [],
   "source": []
  }
 ],
 "metadata": {
  "kernelspec": {
   "display_name": "Python 2",
   "language": "python",
   "name": "python2"
  },
  "language_info": {
   "codemirror_mode": {
    "name": "ipython",
    "version": 2
   },
   "file_extension": ".py",
   "mimetype": "text/x-python",
   "name": "python",
   "nbconvert_exporter": "python",
   "pygments_lexer": "ipython2",
   "version": "2.7.12"
  }
 },
 "nbformat": 4,
 "nbformat_minor": 0
}
